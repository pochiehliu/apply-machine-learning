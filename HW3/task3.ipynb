{
 "cells": [
  {
   "cell_type": "markdown",
   "metadata": {},
   "source": [
    "## Applied Machine Learning Homework 3 Task 3\n",
    "\n",
    "Peter Grantcharov (pdg2116), Po-Chieh Liu (pl2441)\n",
    "\n",
    "**The overall goal is to predict whether a payment by a company to a medical doctor or facility was made as part of a research project or not.**"
   ]
  },
  {
   "cell_type": "code",
   "execution_count": 1,
   "metadata": {},
   "outputs": [],
   "source": [
    "# import base packages\n",
    "import numpy as np\n",
    "import pandas as pd\n",
    "import matplotlib.pyplot as plt\n",
    "import seaborn as sns\n",
    "import warnings\n",
    "warnings.filterwarnings('ignore')"
   ]
  },
  {
   "cell_type": "markdown",
   "metadata": {},
   "source": [
    "# Task 3 Feature Engineering\n",
    "1. Create derived features and perform more in-depth preprocessing and data cleaning. \n",
    "2. Does this improve your model? In particular, think about how to encode categorical variables"
   ]
  },
  {
   "cell_type": "markdown",
   "metadata": {},
   "source": [
    "## Before Commencing\n",
    "From task 1, we selected potential features for building model. In task 2, we built a baseline model using a logistic regression, with a subset of potential features to predict the payment type. For this task, some features that were skipped in task 2 due to large amount unique values or large amount missing values will now have target-based encoding applied to them, to see if we can improve on our baseline model."
   ]
  },
  {
   "cell_type": "markdown",
   "metadata": {},
   "source": [
    "### Import data\n",
    "\n",
    "Based on task 1 and 2 results."
   ]
  },
  {
   "cell_type": "code",
   "execution_count": 2,
   "metadata": {},
   "outputs": [],
   "source": [
    "# Selected features\n",
    "col  = ['Recipient_State',\n",
    "        'Recipient_Country',\n",
    "        'Applicable_Manufacturer_or_Applicable_GPO_Making_Payment_ID',\n",
    "        'Total_Amount_of_Payment_USDollars', \n",
    "        'Date_of_Payment', \n",
    "        'Form_of_Payment_or_Transfer_of_Value',\n",
    "        'Dispute_Status_for_Publication', \n",
    "        'Related_Product_Indicator',\n",
    "        'Covered_or_Noncovered_Indicator_1',\n",
    "        'Indicate_Drug_or_Biological_or_Device_or_Medical_Supply_1',\n",
    "        'Covered_or_Noncovered_Indicator_2',\n",
    "        'Indicate_Drug_or_Biological_or_Device_or_Medical_Supply_2',\n",
    "        'Covered_or_Noncovered_Indicator_3',\n",
    "        'Indicate_Drug_or_Biological_or_Device_or_Medical_Supply_3',\n",
    "       ]\n",
    "\n",
    "# import file 1 and 2\n",
    "file1 = pd.read_csv('OP_DTL_GNRL_PGYR2017_P01182019.csv', usecols = col)\n",
    "file2 = pd.read_csv('OP_DTL_RSRCH_PGYR2017_P01182019.csv', usecols = col)\n",
    "\n",
    "# Labeling\n",
    "file1['y'] = int(0)\n",
    "file2['y'] = int(1)\n",
    "\n",
    "# combine (vertical stack)\n",
    "df = pd.concat([file1, file2], sort = False)\n",
    "\n",
    "# convert to datatime type and reduce to month only\n",
    "df['Date_of_Payment'] = pd.to_datetime(df.Date_of_Payment, format = \"%m/%d/%Y\")\n",
    "df['Date_of_Payment'] = pd.DatetimeIndex(df['Date_of_Payment']).month\n",
    "df['Date_of_Payment'] = df['Date_of_Payment'].astype(int)\n",
    "\n",
    "# free memory\n",
    "del file1, file2, col\n"
   ]
  },
  {
   "cell_type": "markdown",
   "metadata": {},
   "source": [
    "### Missing data\n",
    "#### Recipient_State and Recipient_Country"
   ]
  },
  {
   "cell_type": "code",
   "execution_count": 3,
   "metadata": {},
   "outputs": [],
   "source": [
    "# Labelling all missing states as \"Unknown\"\n",
    "df.Recipient_State[df.Recipient_State.isnull()] = 'Unknown'"
   ]
  },
  {
   "cell_type": "code",
   "execution_count": 4,
   "metadata": {},
   "outputs": [],
   "source": [
    "# Grouping all non-us countries and United States Minor Outlying Islands together\n",
    "df.Recipient_Country[~(\n",
    "    (df.Recipient_Country == 'United States') |  (df.Recipient_Country.isnull()))] = 'Other'\n",
    "\n",
    "# assign missing country as unknown country\n",
    "df.Recipient_Country[df.Recipient_Country.isnull()] = 'Unknown'"
   ]
  },
  {
   "cell_type": "markdown",
   "metadata": {},
   "source": [
    "#### Covered_or_Noncovered_Indicator"
   ]
  },
  {
   "cell_type": "code",
   "execution_count": 5,
   "metadata": {},
   "outputs": [],
   "source": [
    "# Assign not applicable for missing value\n",
    "df.Covered_or_Noncovered_Indicator_1[df.Covered_or_Noncovered_Indicator_1.isnull()] = 'M1'\n",
    "df.Covered_or_Noncovered_Indicator_2[df.Covered_or_Noncovered_Indicator_2.isnull()] = 'M2'\n",
    "df.Covered_or_Noncovered_Indicator_3[df.Covered_or_Noncovered_Indicator_3.isnull()] = 'M3'"
   ]
  },
  {
   "cell_type": "markdown",
   "metadata": {},
   "source": [
    "#### Indicate_Drug_or_Biological_or_Device_or_Medical_Supply_1"
   ]
  },
  {
   "cell_type": "code",
   "execution_count": 6,
   "metadata": {},
   "outputs": [],
   "source": [
    "# if the Related_Product_Indicator indicator is Yes, then at least 1 item should be related\n",
    "# so assume the missing of 1st indicator is missing\n",
    "for i in range(1, 4):\n",
    "    name = 'Indicate_Drug_or_Biological_or_Device_or_Medical_Supply_' + str(i)\n",
    "    df[name][( (df.Related_Product_Indicator == 'Yes') & (df[name].isnull()))] = 'Unknown' + str(i)\n",
    "\n",
    "    # The missing indicator 1 with No of related indicator should be NA\n",
    "    df[name][((df.Related_Product_Indicator == 'No'))] = 'NA' + str(i)\n"
   ]
  },
  {
   "cell_type": "code",
   "execution_count": 7,
   "metadata": {},
   "outputs": [
    {
     "name": "stdout",
     "output_type": "stream",
     "text": [
      "0 missing data of feature Recipient_State\n",
      "0 missing data of feature Recipient_Country\n",
      "0 missing data of feature Applicable_Manufacturer_or_Applicable_GPO_Making_Payment_ID\n",
      "0 missing data of feature Total_Amount_of_Payment_USDollars\n",
      "0 missing data of feature Date_of_Payment\n",
      "0 missing data of feature Form_of_Payment_or_Transfer_of_Value\n",
      "0 missing data of feature Dispute_Status_for_Publication\n",
      "0 missing data of feature Related_Product_Indicator\n",
      "0 missing data of feature Covered_or_Noncovered_Indicator_1\n",
      "0 missing data of feature Indicate_Drug_or_Biological_or_Device_or_Medical_Supply_1\n",
      "0 missing data of feature Covered_or_Noncovered_Indicator_2\n",
      "0 missing data of feature Indicate_Drug_or_Biological_or_Device_or_Medical_Supply_2\n",
      "0 missing data of feature Covered_or_Noncovered_Indicator_3\n",
      "0 missing data of feature Indicate_Drug_or_Biological_or_Device_or_Medical_Supply_3\n",
      "0 missing data of feature y\n"
     ]
    }
   ],
   "source": [
    "# check missing\n",
    "for el in df.columns:\n",
    "    tmp = df[el].isna().sum()\n",
    "    if tmp == 0:\n",
    "        print('0 missing data of feature ' + str(el))\n",
    "    else:\n",
    "        print(str(el) + ' has\\n number of missing rows : ' + str(tmp) + '\\n ratio : ' + str(tmp/df.shape[0]))"
   ]
  },
  {
   "cell_type": "markdown",
   "metadata": {},
   "source": [
    "### Target-based Encoding"
   ]
  },
  {
   "cell_type": "code",
   "execution_count": 8,
   "metadata": {},
   "outputs": [],
   "source": [
    "df_t = df.copy()"
   ]
  },
  {
   "cell_type": "markdown",
   "metadata": {},
   "source": [
    "#### Applicable_Manufacturer_or_Applicable_GPO_Making_Payment_ID"
   ]
  },
  {
   "cell_type": "code",
   "execution_count": 9,
   "metadata": {},
   "outputs": [],
   "source": [
    "Manufacturer_mean = df_t.groupby('Applicable_Manufacturer_or_Applicable_GPO_Making_Payment_ID')['y'].mean()\n",
    "df_t['Applicable_Manufacturer_or_Applicable_GPO_Making_Payment_ID'] = df_t[\n",
    "    'Applicable_Manufacturer_or_Applicable_GPO_Making_Payment_ID'].map(Manufacturer_mean)"
   ]
  },
  {
   "cell_type": "markdown",
   "metadata": {},
   "source": [
    "#### Covered_or_Noncovered_Indicator_2-3"
   ]
  },
  {
   "cell_type": "code",
   "execution_count": 10,
   "metadata": {},
   "outputs": [],
   "source": [
    "Cover2_mean = df_t.groupby(\n",
    "    'Covered_or_Noncovered_Indicator_2')['y'].mean()\n",
    "df_t['Covered_or_Noncovered_Indicator_2'] = df_t[\n",
    "    'Covered_or_Noncovered_Indicator_2'].map(Cover2_mean)\n",
    "\n",
    "Cover3_mean = df_t.groupby(\n",
    "    'Covered_or_Noncovered_Indicator_3')['y'].mean()\n",
    "df_t['Covered_or_Noncovered_Indicator_3'] = df_t[\n",
    "    'Covered_or_Noncovered_Indicator_3'].map(Cover3_mean)\n"
   ]
  },
  {
   "cell_type": "markdown",
   "metadata": {},
   "source": [
    "#### Indicate_Drug_or_Biological_or_Device_or_Medical_Supply_2-3"
   ]
  },
  {
   "cell_type": "code",
   "execution_count": 11,
   "metadata": {},
   "outputs": [],
   "source": [
    "ind2_mean = df_t.groupby(\n",
    "    'Indicate_Drug_or_Biological_or_Device_or_Medical_Supply_2')['y'].mean()\n",
    "df_t['Indicate_Drug_or_Biological_or_Device_or_Medical_Supply_2'] = df_t[\n",
    "    'Indicate_Drug_or_Biological_or_Device_or_Medical_Supply_2'].map(ind2_mean)\n",
    "\n",
    "ind3_mean = df_t.groupby(\n",
    "    'Indicate_Drug_or_Biological_or_Device_or_Medical_Supply_3')['y'].mean()\n",
    "df_t['Indicate_Drug_or_Biological_or_Device_or_Medical_Supply_3'] = df_t[\n",
    "    'Indicate_Drug_or_Biological_or_Device_or_Medical_Supply_3'].map(ind3_mean)\n"
   ]
  },
  {
   "cell_type": "markdown",
   "metadata": {},
   "source": [
    "#### Check status"
   ]
  },
  {
   "cell_type": "code",
   "execution_count": 12,
   "metadata": {
    "scrolled": false
   },
   "outputs": [
    {
     "name": "stdout",
     "output_type": "stream",
     "text": [
      "<class 'pandas.core.frame.DataFrame'>\n",
      "Int64Index: 11266363 entries, 0 to 602529\n",
      "Data columns (total 15 columns):\n",
      "Recipient_State                                                object\n",
      "Recipient_Country                                              object\n",
      "Applicable_Manufacturer_or_Applicable_GPO_Making_Payment_ID    float64\n",
      "Total_Amount_of_Payment_USDollars                              float64\n",
      "Date_of_Payment                                                int64\n",
      "Form_of_Payment_or_Transfer_of_Value                           object\n",
      "Dispute_Status_for_Publication                                 object\n",
      "Related_Product_Indicator                                      object\n",
      "Covered_or_Noncovered_Indicator_1                              object\n",
      "Indicate_Drug_or_Biological_or_Device_or_Medical_Supply_1      object\n",
      "Covered_or_Noncovered_Indicator_2                              float64\n",
      "Indicate_Drug_or_Biological_or_Device_or_Medical_Supply_2      float64\n",
      "Covered_or_Noncovered_Indicator_3                              float64\n",
      "Indicate_Drug_or_Biological_or_Device_or_Medical_Supply_3      float64\n",
      "y                                                              int64\n",
      "dtypes: float64(6), int64(2), object(7)\n",
      "memory usage: 1.3+ GB\n"
     ]
    }
   ],
   "source": [
    "df_t.info()"
   ]
  },
  {
   "cell_type": "markdown",
   "metadata": {},
   "source": [
    "### Build model"
   ]
  },
  {
   "cell_type": "code",
   "execution_count": 13,
   "metadata": {},
   "outputs": [],
   "source": [
    "# import sklearn\n",
    "from sklearn.model_selection import train_test_split\n",
    "from sklearn.pipeline import make_pipeline\n",
    "from sklearn.compose import make_column_transformer\n",
    "from sklearn.preprocessing import OneHotEncoder\n",
    "from sklearn.preprocessing import PowerTransformer\n",
    "from sklearn.model_selection import cross_validate\n",
    "from sklearn import metrics\n",
    "from sklearn.linear_model import LogisticRegression"
   ]
  },
  {
   "cell_type": "markdown",
   "metadata": {},
   "source": [
    "#### Subsample and Perform Train-Test Split"
   ]
  },
  {
   "cell_type": "code",
   "execution_count": 14,
   "metadata": {},
   "outputs": [],
   "source": [
    "# list \n",
    "col = [el for el in df.columns if el != 'y']\n",
    "\n",
    "# sample data\n",
    "rand = np.random.choice(df.index.values, int(len(df) * 0.001))\n",
    "s_df = df_t.ix[rand]\n",
    "\n",
    "# subset features\n",
    "X = s_df.loc[:, col]\n",
    "y = s_df.loc[:,'y']\n",
    "\n",
    "# train and test split\n",
    "X_train, X_test, y_train, y_test = train_test_split(X, y, \n",
    "                                                    random_state = 1, \n",
    "                                                    stratify = y, \n",
    "                                                    train_size = 0.75)"
   ]
  },
  {
   "cell_type": "markdown",
   "metadata": {},
   "source": [
    "#### Define Categorical and Continuous Variable Lists"
   ]
  },
  {
   "cell_type": "code",
   "execution_count": 17,
   "metadata": {},
   "outputs": [],
   "source": [
    "# categorical list \n",
    "ct_ls = [x for x in col if (\n",
    "    (x != 'Total_Amount_of_Payment_USDollars') &\n",
    "    (x != 'Applicable_Manufacturer_or_Applicable_GPO_Making_Payment_ID') &\n",
    "    (x != 'Covered_or_Noncovered_Indicator_2') &\n",
    "    (x != 'Covered_or_Noncovered_Indicator_3') &\n",
    "    (x != 'Indicate_Drug_or_Biological_or_Device_or_Medical_Supply_2') &\n",
    "    (x != 'Indicate_Drug_or_Biological_or_Device_or_Medical_Supply_3'))]\n",
    "\n",
    "# continuous list\n",
    "cts_ls = [x for x in col if x not in ct_ls]"
   ]
  },
  {
   "cell_type": "code",
   "execution_count": 18,
   "metadata": {},
   "outputs": [
    {
     "data": {
      "image/png": "[encoded data removed]",
      "text/plain": [
       "<Figure size 720x1440 with 6 Axes>"
      ]
     },
     "metadata": {
      "needs_background": "light"
     },
     "output_type": "display_data"
    }
   ],
   "source": [
    "f, ax = plt.subplots(3, 2, figsize= (10,20))\n",
    "ax_ = ax.flatten()\n",
    "for idx, el in enumerate(cts_ls[1:]):\n",
    "    _ = sns.distplot(X[el], kde = False, ax = ax_[idx])"
   ]
  },
  {
   "cell_type": "markdown",
   "metadata": {},
   "source": [
    "#### Build Pipeline"
   ]
  },
  {
   "cell_type": "code",
   "execution_count": 19,
   "metadata": {},
   "outputs": [],
   "source": [
    "# preprocess pipe\n",
    "# PowerTransformer() also standardize the data \n",
    "preprocess = make_column_transformer(\n",
    "    (PowerTransformer(), cts_ls),\n",
    "    (OneHotEncoder(sparse = False, handle_unknown='ignore'), ct_ls),\n",
    "    remainder='passthrough')\n",
    "\n",
    "# logistic pipe\n",
    "lr = LogisticRegression(dual = False, solver = \"sag\", penalty = 'l2')\n",
    "logistic_pipe = make_pipeline(preprocess, lr) "
   ]
  },
  {
   "cell_type": "markdown",
   "metadata": {},
   "source": [
    "#### Define metrics"
   ]
  },
  {
   "cell_type": "code",
   "execution_count": 20,
   "metadata": {},
   "outputs": [],
   "source": [
    "# metric we want to use\n",
    "scoring = {'balanced_accuracy' : 'balanced_accuracy',\n",
    "           'precision' : 'precision',\n",
    "           'average_precision' : 'average_precision', \n",
    "           'recall' : 'recall',\n",
    "           'f1' : 'f1'}"
   ]
  },
  {
   "cell_type": "markdown",
   "metadata": {},
   "source": [
    "#### Evaluate"
   ]
  },
  {
   "cell_type": "code",
   "execution_count": 21,
   "metadata": {},
   "outputs": [],
   "source": [
    "# build using small subset\n",
    "scores = cross_validate(logistic_pipe, X_train, y_train, scoring = scoring)"
   ]
  },
  {
   "cell_type": "code",
   "execution_count": 22,
   "metadata": {},
   "outputs": [
    {
     "name": "stdout",
     "output_type": "stream",
     "text": [
      "test_balanced_accuracy : 0.8595186648498924\n",
      "test_precision : 0.815214934822778\n",
      "test_average_precision : 0.8527731899642389\n",
      "test_recall : 0.7361969534264009\n",
      "test_f1 : 0.7735703514657261\n"
     ]
    }
   ],
   "source": [
    "for el in scores.keys():\n",
    "    if el in ['test_balanced_accuracy', 'test_precision', 'test_average_precision', 'test_recall', 'test_f1']:\n",
    "        print(el + ' : ' + str(np.mean(scores[el])))"
   ]
  },
  {
   "cell_type": "markdown",
   "metadata": {},
   "source": [
    "### Smooth Target-based Encoding"
   ]
  },
  {
   "cell_type": "code",
   "execution_count": 23,
   "metadata": {},
   "outputs": [],
   "source": [
    "# Source: https://maxhalford.github.io/blog/target-encoding-done-the-right-way/\n",
    "\n",
    "def calc_smooth_mean(df, by, on, m):\n",
    "    # Compute the global mean\n",
    "    mean = df[on].mean()\n",
    "\n",
    "    # Compute the number of values and the mean of each group\n",
    "    agg = df.groupby(by)[on].agg(['count', 'mean'])\n",
    "    counts = agg['count']\n",
    "    means = agg['mean']\n",
    "\n",
    "    # Compute the \"smoothed\" means\n",
    "    smooth = (counts * means + m * mean) / (counts + m)\n",
    "\n",
    "    # Replace each value by the according smoothed mean\n",
    "    return df[by].map(smooth)"
   ]
  },
  {
   "cell_type": "code",
   "execution_count": 24,
   "metadata": {},
   "outputs": [],
   "source": [
    "df_t_s = df.copy()"
   ]
  },
  {
   "cell_type": "code",
   "execution_count": 25,
   "metadata": {},
   "outputs": [],
   "source": [
    "temp_ = ['Applicable_Manufacturer_or_Applicable_GPO_Making_Payment_ID',\n",
    "         'Covered_or_Noncovered_Indicator_2',\n",
    "         'Covered_or_Noncovered_Indicator_3',\n",
    "         'Indicate_Drug_or_Biological_or_Device_or_Medical_Supply_2',\n",
    "         'Indicate_Drug_or_Biological_or_Device_or_Medical_Supply_3']"
   ]
  },
  {
   "cell_type": "code",
   "execution_count": 26,
   "metadata": {},
   "outputs": [],
   "source": [
    "# smooth target encoding\n",
    "for el in temp_:\n",
    "    df_t_s[el] = calc_smooth_mean(df_t_s, by = el, on = 'y', m = 300)"
   ]
  },
  {
   "cell_type": "code",
   "execution_count": 27,
   "metadata": {},
   "outputs": [],
   "source": [
    "# sample data\n",
    "rand = np.random.choice(df.index.values, int(len(df) * 0.001))\n",
    "s_df = df_t_s.ix[rand]\n",
    "\n",
    "# subset features\n",
    "X = s_df.loc[:, col]\n",
    "y = s_df.loc[:,'y']\n",
    "\n",
    "# train and test split\n",
    "X_train, X_test, y_train, y_test = train_test_split(X, y, \n",
    "                                                    random_state = 1, \n",
    "                                                    stratify = y, \n",
    "                                                    train_size = 0.75)"
   ]
  },
  {
   "cell_type": "code",
   "execution_count": 29,
   "metadata": {},
   "outputs": [],
   "source": [
    "# build using small subset\n",
    "scores = cross_validate(logistic_pipe, X_train, y_train, scoring = scoring)"
   ]
  },
  {
   "cell_type": "code",
   "execution_count": 30,
   "metadata": {},
   "outputs": [
    {
     "name": "stdout",
     "output_type": "stream",
     "text": [
      "test_balanced_accuracy : 0.8737252223102523\n",
      "test_precision : 0.8422670725199909\n",
      "test_average_precision : 0.8741089051483488\n",
      "test_recall : 0.7629554346163093\n",
      "test_f1 : 0.7999631060473099\n"
     ]
    }
   ],
   "source": [
    "for el in scores.keys():\n",
    "    if el in ['test_balanced_accuracy', 'test_precision', 'test_average_precision', 'test_recall', 'test_f1']:\n",
    "        print(el + ' : ' + str(np.mean(scores[el])))"
   ]
  },
  {
   "cell_type": "markdown",
   "metadata": {},
   "source": [
    "## Conclusion for task 3\n",
    "\n",
    "In task 2, we used logistic regression and subset features to build baseline model. The scores of the baseline model are listed:\n",
    "1. test_balanced_accuracy : 0.8397420218125639\n",
    "2. test_precision : 0.8260501590866554\n",
    "3. test_average_precision : 0.8482536286557143\n",
    "4. test_recall : 0.6956989247311829\n",
    "5. test_f1 : 0.7550262642908642\n",
    "\n",
    "In task 3, we add following features into the baseline model after applying target-based encoding technique:\n",
    "1. Applicable_Manufacturer_or_Applicable_GPO_Making_Payment_ID\n",
    "2. Covered_or_Noncovered_Indicator_2\n",
    "3. Indicate_Drug_or_Biological_or_Device_or_Medical_Supply_2\n",
    "4. Covered_or_Noncovered_Indicator_3\n",
    "5. Indicate_Drug_or_Biological_or_Device_or_Medical_Supply_3\n",
    "\n",
    "From the baseline, the scores all improved significantly. The differences of score between smooth or non-smooth target encoding are also noticable. In summary, these were the advancements made in the selected metrics:\n",
    "1. test_balanced_accuracy : 0.8397 -> 0.8737\n",
    "2. test_precision : 0.8261 -> 0.8423\n",
    "3. test_average_precision : 0.8483 -> 0.8741\n",
    "4. test_recall : 0.6957 -> 0.7630\n",
    "5. test_f1 : 0.7550 -> 0.8000"
   ]
  }
 ],
 "metadata": {
  "kernelspec": {
   "display_name": "progs",
   "language": "python",
   "name": "progs"
  },
  "language_info": {
   "codemirror_mode": {
    "name": "ipython",
    "version": 3
   },
   "file_extension": ".py",
   "mimetype": "text/x-python",
   "name": "python",
   "nbconvert_exporter": "python",
   "pygments_lexer": "ipython3",
   "version": "3.7.2"
  }
 },
 "nbformat": 4,
 "nbformat_minor": 2
}
