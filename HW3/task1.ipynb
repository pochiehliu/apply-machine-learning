{
 "cells": [
  {
   "cell_type": "markdown",
   "metadata": {},
   "source": [
    "## Applied Machine Learning Homework 3 Task 1\n",
    "\n",
    "Peter Grantcharov (pdg2116), Po-Chieh Liu (pl2441)\n",
    "\n",
    "**The overall goal is to predict whether a payment by a company to a medical doctor or facility was made as part of a research project or not.**"
   ]
  },
  {
   "cell_type": "code",
   "execution_count": 1,
   "metadata": {},
   "outputs": [],
   "source": [
    "# import base packages\n",
    "import numpy as np\n",
    "import pandas as pd\n",
    "import matplotlib.pyplot as plt\n",
    "import seaborn as sns\n",
    "\n",
    "import warnings\n",
    "warnings.filterwarnings('ignore')"
   ]
  },
  {
   "cell_type": "markdown",
   "metadata": {},
   "source": [
    "# Task 1 Identify Features\n",
    "Assemble a dataset consisting of features and target (for example in a dataframe or in two arrays X and y). \n",
    "1. What features are relevant for the prediction task? \n",
    "2. What features should be excluded because they leak the target information? \n",
    "3. Show visualizations or statistics to support your selection."
   ]
  },
  {
   "cell_type": "markdown",
   "metadata": {},
   "source": [
    "## Before Start\n",
    "The README file and variable description file were downloaded from www.CMS.gov, leading us to the following observations:\n",
    "\n",
    "1. All transactions in file 1 (OP_DTL_GNRL_PGYR2017_P01182019.csv) should be labeled 0 (not part of research project), and all transactions in file 2 (OP_DTL_RSRCH_PGYR2017_P01182019.csv) should be labeded 1.\n",
    "2. File 3 and file 4 are not related to build model.\n",
    "3. The variable description file allowed us to identify features that we deemed valuable for this classification problem under the following criteria:\n",
    "\n",
    "#### Rules for dropping features:\n",
    "1. Since we want to model if the transaction is research related, we have to exclude all non-shared features between file 1 and 2. \n",
    "2. Exclude features that have unique values exist in either file 1 or file 2.\n",
    "3. Exclude if feature doesn't have contain information regarding the transaction. For example, **Change_Type** is just marking the row is new/added/changed/unchanged, which should be dropped.\n",
    "4. Exclude features that are too specific (e.g. **Recipient_Postal_Code**) too detailed (e.g. **Physician_Specialty**), or cannot be generalized (e.g. **Physician_Profile_ID**)\n",
    "5. Exclude features that can be represented by other features."
   ]
  },
  {
   "cell_type": "markdown",
   "metadata": {},
   "source": [
    "## Data Exploration\n",
    "\n",
    "#### Import files"
   ]
  },
  {
   "cell_type": "code",
   "execution_count": 2,
   "metadata": {},
   "outputs": [
    {
     "name": "stdout",
     "output_type": "stream",
     "text": [
      "Number of duplicated record: 0\n"
     ]
    }
   ],
   "source": [
    "# File 1 are all labeld 0, and File 2 are all labeled 1\n",
    "file1 = pd.read_csv('OP_DTL_GNRL_PGYR2017_P01182019.csv')\n",
    "file2 = pd.read_csv('OP_DTL_RSRCH_PGYR2017_P01182019.csv')\n",
    "\n",
    "# check duplicated record based on Record_ID\n",
    "print('Number of duplicated record: ' + \n",
    "      str(file1.Record_ID.append(file2.Record_ID).duplicated().sum()))\n",
    "file1.drop(['Record_ID'], inplace = True, axis = 1)\n",
    "file2.drop(['Record_ID'], inplace = True, axis = 1)\n"
   ]
  },
  {
   "cell_type": "markdown",
   "metadata": {},
   "source": [
    "#### Remove non-shared columns"
   ]
  },
  {
   "cell_type": "code",
   "execution_count": 3,
   "metadata": {
    "scrolled": false
   },
   "outputs": [],
   "source": [
    "# find non-shared features\n",
    "set_1 = set(file1.columns)\n",
    "set_2 = set(file2.columns)\n",
    "col1_d = set_1.difference(set_2)\n",
    "col2_d = set_2.difference(set_1)\n",
    "\n",
    "# drop\n",
    "file1.drop(col1_d, axis = 1, inplace = True)\n",
    "file2.drop(col2_d, axis = 1, inplace = True)"
   ]
  },
  {
   "cell_type": "markdown",
   "metadata": {},
   "source": [
    "#### Check rest features"
   ]
  },
  {
   "cell_type": "code",
   "execution_count": 4,
   "metadata": {
    "scrolled": false
   },
   "outputs": [
    {
     "name": "stdout",
     "output_type": "stream",
     "text": [
      "Number of remaining features:\t63\n",
      "Change_Type\n",
      "Covered_Recipient_Type\n",
      "Teaching_Hospital_CCN\n",
      "Teaching_Hospital_ID\n",
      "Teaching_Hospital_Name\n",
      "Physician_Profile_ID\n",
      "Physician_First_Name\n",
      "Physician_Middle_Name\n",
      "Physician_Last_Name\n",
      "Physician_Name_Suffix\n",
      "Recipient_Primary_Business_Street_Address_Line1\n",
      "Recipient_Primary_Business_Street_Address_Line2\n",
      "Recipient_City\n",
      "Recipient_State\n",
      "Recipient_Zip_Code\n",
      "Recipient_Country\n",
      "Recipient_Province\n",
      "Recipient_Postal_Code\n",
      "Physician_Primary_Type\n",
      "Physician_Specialty\n",
      "Physician_License_State_code1\n",
      "Physician_License_State_code2\n",
      "Physician_License_State_code3\n",
      "Physician_License_State_code4\n",
      "Physician_License_State_code5\n",
      "Submitting_Applicable_Manufacturer_or_Applicable_GPO_Name\n",
      "Applicable_Manufacturer_or_Applicable_GPO_Making_Payment_ID\n",
      "Applicable_Manufacturer_or_Applicable_GPO_Making_Payment_Name\n",
      "Applicable_Manufacturer_or_Applicable_GPO_Making_Payment_State\n",
      "Applicable_Manufacturer_or_Applicable_GPO_Making_Payment_Country\n",
      "Total_Amount_of_Payment_USDollars\n",
      "Date_of_Payment\n",
      "Form_of_Payment_or_Transfer_of_Value\n",
      "Delay_in_Publication_Indicator\n",
      "Dispute_Status_for_Publication\n",
      "Related_Product_Indicator\n",
      "Covered_or_Noncovered_Indicator_1\n",
      "Indicate_Drug_or_Biological_or_Device_or_Medical_Supply_1\n",
      "Product_Category_or_Therapeutic_Area_1\n",
      "Name_of_Drug_or_Biological_or_Device_or_Medical_Supply_1\n",
      "Associated_Drug_or_Biological_NDC_1\n",
      "Covered_or_Noncovered_Indicator_2\n",
      "Indicate_Drug_or_Biological_or_Device_or_Medical_Supply_2\n",
      "Product_Category_or_Therapeutic_Area_2\n",
      "Name_of_Drug_or_Biological_or_Device_or_Medical_Supply_2\n",
      "Associated_Drug_or_Biological_NDC_2\n",
      "Covered_or_Noncovered_Indicator_3\n",
      "Indicate_Drug_or_Biological_or_Device_or_Medical_Supply_3\n",
      "Product_Category_or_Therapeutic_Area_3\n",
      "Name_of_Drug_or_Biological_or_Device_or_Medical_Supply_3\n",
      "Associated_Drug_or_Biological_NDC_3\n",
      "Covered_or_Noncovered_Indicator_4\n",
      "Indicate_Drug_or_Biological_or_Device_or_Medical_Supply_4\n",
      "Product_Category_or_Therapeutic_Area_4\n",
      "Name_of_Drug_or_Biological_or_Device_or_Medical_Supply_4\n",
      "Associated_Drug_or_Biological_NDC_4\n",
      "Covered_or_Noncovered_Indicator_5\n",
      "Indicate_Drug_or_Biological_or_Device_or_Medical_Supply_5\n",
      "Product_Category_or_Therapeutic_Area_5\n",
      "Name_of_Drug_or_Biological_or_Device_or_Medical_Supply_5\n",
      "Associated_Drug_or_Biological_NDC_5\n",
      "Program_Year\n",
      "Payment_Publication_Date\n"
     ]
    }
   ],
   "source": [
    "# print rest features\n",
    "print('Number of remaining features:\\t' + str(len(file1.columns)))\n",
    "for el in file1.columns:\n",
    "    print(el)"
   ]
  },
  {
   "cell_type": "markdown",
   "metadata": {},
   "source": [
    "#### Remove non-relavent or correlated features"
   ]
  },
  {
   "cell_type": "code",
   "execution_count": 5,
   "metadata": {},
   "outputs": [],
   "source": [
    "# not related to y\n",
    "col_ = ['Change_Type', 'Payment_Publication_Date', 'Program_Year'] \n",
    "# Represented by Teaching_Hospital_ID and Physician_Profile_ID\n",
    "col_.extend(['Teaching_Hospital_CCN',\n",
    "             'Teaching_Hospital_Name',\n",
    "             'Physician_First_Name',\n",
    "             'Physician_Middle_Name',\n",
    "             'Physician_Last_Name',\n",
    "             'Physician_Name_Suffix'])\n",
    "# represented by Recipient_City, Recipient_State, 'Recipient_Province', Recipient_Country\n",
    "col_.extend(['Recipient_Primary_Business_Street_Address_Line1',\n",
    "             'Recipient_Primary_Business_Street_Address_Line2',\n",
    "             'Recipient_Zip_Code',\n",
    "             'Recipient_Postal_Code'])\n",
    "# represented by Physician_Profile_ID\n",
    "col_.extend(['Physician_License_State_code1',\n",
    "             'Physician_License_State_code2',\n",
    "             'Physician_License_State_code3',\n",
    "             'Physician_License_State_code4',\n",
    "             'Physician_License_State_code5'])\n",
    "# represented by Applicable_Manufacturer_or_Applicable_GPO_Making_Payment_ID\n",
    "col_.extend(['Submitting_Applicable_Manufacturer_or_Applicable_GPO_Name',\n",
    "             'Applicable_Manufacturer_or_Applicable_GPO_Making_Payment_Name',\n",
    "             'Applicable_Manufacturer_or_Applicable_GPO_Making_Payment_State',\n",
    "             'Applicable_Manufacturer_or_Applicable_GPO_Making_Payment_Country'])"
   ]
  },
  {
   "cell_type": "code",
   "execution_count": 6,
   "metadata": {
    "scrolled": false
   },
   "outputs": [],
   "source": [
    "file1.drop(col_, axis = 1, inplace = True)\n",
    "file2.drop(col_, axis = 1, inplace = True)"
   ]
  },
  {
   "cell_type": "code",
   "execution_count": 7,
   "metadata": {},
   "outputs": [
    {
     "name": "stdout",
     "output_type": "stream",
     "text": [
      "Number of remaining features:\t41\n",
      "Covered_Recipient_Type\n",
      "Teaching_Hospital_ID\n",
      "Physician_Profile_ID\n",
      "Recipient_City\n",
      "Recipient_State\n",
      "Recipient_Country\n",
      "Recipient_Province\n",
      "Physician_Primary_Type\n",
      "Physician_Specialty\n",
      "Applicable_Manufacturer_or_Applicable_GPO_Making_Payment_ID\n",
      "Total_Amount_of_Payment_USDollars\n",
      "Date_of_Payment\n",
      "Form_of_Payment_or_Transfer_of_Value\n",
      "Delay_in_Publication_Indicator\n",
      "Dispute_Status_for_Publication\n",
      "Related_Product_Indicator\n",
      "Covered_or_Noncovered_Indicator_1\n",
      "Indicate_Drug_or_Biological_or_Device_or_Medical_Supply_1\n",
      "Product_Category_or_Therapeutic_Area_1\n",
      "Name_of_Drug_or_Biological_or_Device_or_Medical_Supply_1\n",
      "Associated_Drug_or_Biological_NDC_1\n",
      "Covered_or_Noncovered_Indicator_2\n",
      "Indicate_Drug_or_Biological_or_Device_or_Medical_Supply_2\n",
      "Product_Category_or_Therapeutic_Area_2\n",
      "Name_of_Drug_or_Biological_or_Device_or_Medical_Supply_2\n",
      "Associated_Drug_or_Biological_NDC_2\n",
      "Covered_or_Noncovered_Indicator_3\n",
      "Indicate_Drug_or_Biological_or_Device_or_Medical_Supply_3\n",
      "Product_Category_or_Therapeutic_Area_3\n",
      "Name_of_Drug_or_Biological_or_Device_or_Medical_Supply_3\n",
      "Associated_Drug_or_Biological_NDC_3\n",
      "Covered_or_Noncovered_Indicator_4\n",
      "Indicate_Drug_or_Biological_or_Device_or_Medical_Supply_4\n",
      "Product_Category_or_Therapeutic_Area_4\n",
      "Name_of_Drug_or_Biological_or_Device_or_Medical_Supply_4\n",
      "Associated_Drug_or_Biological_NDC_4\n",
      "Covered_or_Noncovered_Indicator_5\n",
      "Indicate_Drug_or_Biological_or_Device_or_Medical_Supply_5\n",
      "Product_Category_or_Therapeutic_Area_5\n",
      "Name_of_Drug_or_Biological_or_Device_or_Medical_Supply_5\n",
      "Associated_Drug_or_Biological_NDC_5\n"
     ]
    }
   ],
   "source": [
    "print('Number of remaining features:\\t' + str(len(file1.columns)))\n",
    "for el in file1.columns:\n",
    "    print(el)"
   ]
  },
  {
   "cell_type": "markdown",
   "metadata": {},
   "source": [
    "#### Add Labels and Construct Data Frame"
   ]
  },
  {
   "cell_type": "code",
   "execution_count": 8,
   "metadata": {},
   "outputs": [
    {
     "name": "stdout",
     "output_type": "stream",
     "text": [
      "(10663833, 42)\n",
      "(602530, 42)\n",
      "(11266363, 42)\n"
     ]
    },
    {
     "data": {
      "text/html": [
       "<div>\n",
       "<style scoped>\n",
       "    .dataframe tbody tr th:only-of-type {\n",
       "        vertical-align: middle;\n",
       "    }\n",
       "\n",
       "    .dataframe tbody tr th {\n",
       "        vertical-align: top;\n",
       "    }\n",
       "\n",
       "    .dataframe thead th {\n",
       "        text-align: right;\n",
       "    }\n",
       "</style>\n",
       "<table border=\"1\" class=\"dataframe\">\n",
       "  <thead>\n",
       "    <tr style=\"text-align: right;\">\n",
       "      <th></th>\n",
       "      <th>Covered_Recipient_Type</th>\n",
       "      <th>Teaching_Hospital_ID</th>\n",
       "      <th>Physician_Profile_ID</th>\n",
       "      <th>Recipient_City</th>\n",
       "      <th>Recipient_State</th>\n",
       "      <th>Recipient_Country</th>\n",
       "      <th>Recipient_Province</th>\n",
       "      <th>Physician_Primary_Type</th>\n",
       "      <th>Physician_Specialty</th>\n",
       "      <th>Applicable_Manufacturer_or_Applicable_GPO_Making_Payment_ID</th>\n",
       "      <th>...</th>\n",
       "      <th>Indicate_Drug_or_Biological_or_Device_or_Medical_Supply_4</th>\n",
       "      <th>Product_Category_or_Therapeutic_Area_4</th>\n",
       "      <th>Name_of_Drug_or_Biological_or_Device_or_Medical_Supply_4</th>\n",
       "      <th>Associated_Drug_or_Biological_NDC_4</th>\n",
       "      <th>Covered_or_Noncovered_Indicator_5</th>\n",
       "      <th>Indicate_Drug_or_Biological_or_Device_or_Medical_Supply_5</th>\n",
       "      <th>Product_Category_or_Therapeutic_Area_5</th>\n",
       "      <th>Name_of_Drug_or_Biological_or_Device_or_Medical_Supply_5</th>\n",
       "      <th>Associated_Drug_or_Biological_NDC_5</th>\n",
       "      <th>y</th>\n",
       "    </tr>\n",
       "  </thead>\n",
       "  <tbody>\n",
       "    <tr>\n",
       "      <th>0</th>\n",
       "      <td>Covered Recipient Physician</td>\n",
       "      <td>NaN</td>\n",
       "      <td>326860.0</td>\n",
       "      <td>HUNTINGTON</td>\n",
       "      <td>WV</td>\n",
       "      <td>United States</td>\n",
       "      <td>NaN</td>\n",
       "      <td>Medical Doctor</td>\n",
       "      <td>Allopathic &amp; Osteopathic Physicians|General Pr...</td>\n",
       "      <td>100000000186</td>\n",
       "      <td>...</td>\n",
       "      <td>NaN</td>\n",
       "      <td>NaN</td>\n",
       "      <td>NaN</td>\n",
       "      <td>NaN</td>\n",
       "      <td>NaN</td>\n",
       "      <td>NaN</td>\n",
       "      <td>NaN</td>\n",
       "      <td>NaN</td>\n",
       "      <td>NaN</td>\n",
       "      <td>0</td>\n",
       "    </tr>\n",
       "    <tr>\n",
       "      <th>1</th>\n",
       "      <td>Covered Recipient Physician</td>\n",
       "      <td>NaN</td>\n",
       "      <td>604392.0</td>\n",
       "      <td>Dallas</td>\n",
       "      <td>TX</td>\n",
       "      <td>United States</td>\n",
       "      <td>NaN</td>\n",
       "      <td>Medical Doctor</td>\n",
       "      <td>Allopathic &amp; Osteopathic Physicians|Internal M...</td>\n",
       "      <td>100000000186</td>\n",
       "      <td>...</td>\n",
       "      <td>NaN</td>\n",
       "      <td>NaN</td>\n",
       "      <td>NaN</td>\n",
       "      <td>NaN</td>\n",
       "      <td>NaN</td>\n",
       "      <td>NaN</td>\n",
       "      <td>NaN</td>\n",
       "      <td>NaN</td>\n",
       "      <td>NaN</td>\n",
       "      <td>0</td>\n",
       "    </tr>\n",
       "    <tr>\n",
       "      <th>2</th>\n",
       "      <td>Covered Recipient Physician</td>\n",
       "      <td>NaN</td>\n",
       "      <td>326860.0</td>\n",
       "      <td>HUNTINGTON</td>\n",
       "      <td>WV</td>\n",
       "      <td>United States</td>\n",
       "      <td>NaN</td>\n",
       "      <td>Medical Doctor</td>\n",
       "      <td>Allopathic &amp; Osteopathic Physicians|General Pr...</td>\n",
       "      <td>100000000186</td>\n",
       "      <td>...</td>\n",
       "      <td>NaN</td>\n",
       "      <td>NaN</td>\n",
       "      <td>NaN</td>\n",
       "      <td>NaN</td>\n",
       "      <td>NaN</td>\n",
       "      <td>NaN</td>\n",
       "      <td>NaN</td>\n",
       "      <td>NaN</td>\n",
       "      <td>NaN</td>\n",
       "      <td>0</td>\n",
       "    </tr>\n",
       "    <tr>\n",
       "      <th>3</th>\n",
       "      <td>Covered Recipient Physician</td>\n",
       "      <td>NaN</td>\n",
       "      <td>326860.0</td>\n",
       "      <td>HUNTINGTON</td>\n",
       "      <td>WV</td>\n",
       "      <td>United States</td>\n",
       "      <td>NaN</td>\n",
       "      <td>Medical Doctor</td>\n",
       "      <td>Allopathic &amp; Osteopathic Physicians|General Pr...</td>\n",
       "      <td>100000000186</td>\n",
       "      <td>...</td>\n",
       "      <td>NaN</td>\n",
       "      <td>NaN</td>\n",
       "      <td>NaN</td>\n",
       "      <td>NaN</td>\n",
       "      <td>NaN</td>\n",
       "      <td>NaN</td>\n",
       "      <td>NaN</td>\n",
       "      <td>NaN</td>\n",
       "      <td>NaN</td>\n",
       "      <td>0</td>\n",
       "    </tr>\n",
       "    <tr>\n",
       "      <th>4</th>\n",
       "      <td>Covered Recipient Physician</td>\n",
       "      <td>NaN</td>\n",
       "      <td>1307901.0</td>\n",
       "      <td>HOUSTON</td>\n",
       "      <td>TX</td>\n",
       "      <td>United States</td>\n",
       "      <td>NaN</td>\n",
       "      <td>Medical Doctor</td>\n",
       "      <td>Allopathic &amp; Osteopathic Physicians|General Pr...</td>\n",
       "      <td>100000000186</td>\n",
       "      <td>...</td>\n",
       "      <td>NaN</td>\n",
       "      <td>NaN</td>\n",
       "      <td>NaN</td>\n",
       "      <td>NaN</td>\n",
       "      <td>NaN</td>\n",
       "      <td>NaN</td>\n",
       "      <td>NaN</td>\n",
       "      <td>NaN</td>\n",
       "      <td>NaN</td>\n",
       "      <td>0</td>\n",
       "    </tr>\n",
       "  </tbody>\n",
       "</table>\n",
       "<p>5 rows × 42 columns</p>\n",
       "</div>"
      ],
      "text/plain": [
       "        Covered_Recipient_Type  Teaching_Hospital_ID  Physician_Profile_ID  \\\n",
       "0  Covered Recipient Physician                   NaN              326860.0   \n",
       "1  Covered Recipient Physician                   NaN              604392.0   \n",
       "2  Covered Recipient Physician                   NaN              326860.0   \n",
       "3  Covered Recipient Physician                   NaN              326860.0   \n",
       "4  Covered Recipient Physician                   NaN             1307901.0   \n",
       "\n",
       "  Recipient_City Recipient_State Recipient_Country Recipient_Province  \\\n",
       "0     HUNTINGTON              WV     United States                NaN   \n",
       "1         Dallas              TX     United States                NaN   \n",
       "2     HUNTINGTON              WV     United States                NaN   \n",
       "3     HUNTINGTON              WV     United States                NaN   \n",
       "4        HOUSTON              TX     United States                NaN   \n",
       "\n",
       "  Physician_Primary_Type                                Physician_Specialty  \\\n",
       "0         Medical Doctor  Allopathic & Osteopathic Physicians|General Pr...   \n",
       "1         Medical Doctor  Allopathic & Osteopathic Physicians|Internal M...   \n",
       "2         Medical Doctor  Allopathic & Osteopathic Physicians|General Pr...   \n",
       "3         Medical Doctor  Allopathic & Osteopathic Physicians|General Pr...   \n",
       "4         Medical Doctor  Allopathic & Osteopathic Physicians|General Pr...   \n",
       "\n",
       "   Applicable_Manufacturer_or_Applicable_GPO_Making_Payment_ID ...  \\\n",
       "0                                       100000000186           ...   \n",
       "1                                       100000000186           ...   \n",
       "2                                       100000000186           ...   \n",
       "3                                       100000000186           ...   \n",
       "4                                       100000000186           ...   \n",
       "\n",
       "   Indicate_Drug_or_Biological_or_Device_or_Medical_Supply_4  \\\n",
       "0                                                NaN           \n",
       "1                                                NaN           \n",
       "2                                                NaN           \n",
       "3                                                NaN           \n",
       "4                                                NaN           \n",
       "\n",
       "  Product_Category_or_Therapeutic_Area_4  \\\n",
       "0                                    NaN   \n",
       "1                                    NaN   \n",
       "2                                    NaN   \n",
       "3                                    NaN   \n",
       "4                                    NaN   \n",
       "\n",
       "  Name_of_Drug_or_Biological_or_Device_or_Medical_Supply_4  \\\n",
       "0                                                NaN         \n",
       "1                                                NaN         \n",
       "2                                                NaN         \n",
       "3                                                NaN         \n",
       "4                                                NaN         \n",
       "\n",
       "  Associated_Drug_or_Biological_NDC_4 Covered_or_Noncovered_Indicator_5  \\\n",
       "0                                 NaN                               NaN   \n",
       "1                                 NaN                               NaN   \n",
       "2                                 NaN                               NaN   \n",
       "3                                 NaN                               NaN   \n",
       "4                                 NaN                               NaN   \n",
       "\n",
       "  Indicate_Drug_or_Biological_or_Device_or_Medical_Supply_5  \\\n",
       "0                                                NaN          \n",
       "1                                                NaN          \n",
       "2                                                NaN          \n",
       "3                                                NaN          \n",
       "4                                                NaN          \n",
       "\n",
       "  Product_Category_or_Therapeutic_Area_5  \\\n",
       "0                                    NaN   \n",
       "1                                    NaN   \n",
       "2                                    NaN   \n",
       "3                                    NaN   \n",
       "4                                    NaN   \n",
       "\n",
       "  Name_of_Drug_or_Biological_or_Device_or_Medical_Supply_5  \\\n",
       "0                                                NaN         \n",
       "1                                                NaN         \n",
       "2                                                NaN         \n",
       "3                                                NaN         \n",
       "4                                                NaN         \n",
       "\n",
       "  Associated_Drug_or_Biological_NDC_5  y  \n",
       "0                                 NaN  0  \n",
       "1                                 NaN  0  \n",
       "2                                 NaN  0  \n",
       "3                                 NaN  0  \n",
       "4                                 NaN  0  \n",
       "\n",
       "[5 rows x 42 columns]"
      ]
     },
     "execution_count": 8,
     "metadata": {},
     "output_type": "execute_result"
    }
   ],
   "source": [
    "# Labeling\n",
    "file1['y'] = int(0)\n",
    "file2['y'] = int(1)\n",
    "\n",
    "# combine (vertical stack)\n",
    "df = pd.concat([file1, file2], sort = False)\n",
    "\n",
    "# check shape consistancy\n",
    "print(file1.shape)\n",
    "print(file2.shape)\n",
    "print(df.shape)\n",
    "\n",
    "# display data head\n",
    "df.head()"
   ]
  },
  {
   "cell_type": "code",
   "execution_count": 9,
   "metadata": {},
   "outputs": [],
   "source": [
    "# free memory\n",
    "del col_, set_1, set_2, col1_d, col2_d"
   ]
  },
  {
   "cell_type": "markdown",
   "metadata": {},
   "source": [
    "#### Relative Label Counts"
   ]
  },
  {
   "cell_type": "code",
   "execution_count": 10,
   "metadata": {
    "scrolled": false
   },
   "outputs": [
    {
     "data": {
      "image/png": "[encoded data removed]",
      "text/plain": [
       "<Figure size 576x432 with 1 Axes>"
      ]
     },
     "metadata": {
      "needs_background": "light"
     },
     "output_type": "display_data"
    }
   ],
   "source": [
    "f0, ax0 = plt.subplots(figsize= (8,6))\n",
    "ax0 = sns.countplot(y='y', data = df)\n",
    "_ = ax0.set(xlabel = 'Label Counts', ylabel = 'Label')\n"
   ]
  },
  {
   "cell_type": "markdown",
   "metadata": {},
   "source": [
    "From figure, we can see that this is a highly **imbalanced** data set, which we will take into consideration for evaluating features and for selecting **metrics** by which to evaluate our model."
   ]
  },
  {
   "cell_type": "markdown",
   "metadata": {},
   "source": [
    "#### Covered_Recipient_Type"
   ]
  },
  {
   "cell_type": "code",
   "execution_count": 11,
   "metadata": {},
   "outputs": [
    {
     "data": {
      "image/png": "[encoded data removed]",
      "text/plain": [
       "<Figure size 576x432 with 1 Axes>"
      ]
     },
     "metadata": {
      "needs_background": "light"
     },
     "output_type": "display_data"
    }
   ],
   "source": [
    "f1, ax1 = plt.subplots(figsize= (8,6))\n",
    "ax1 = sns.countplot(y='Covered_Recipient_Type', hue = 'y', data = df)\n",
    "_ = ax1.set(xlabel = 'Counts', ylabel = '')"
   ]
  },
  {
   "cell_type": "code",
   "execution_count": 12,
   "metadata": {},
   "outputs": [
    {
     "name": "stdout",
     "output_type": "stream",
     "text": [
      "Number of Covered_Recipient_Type exist in both files: 2\n",
      "Number of Covered_Recipient_Type only exist in file 1: 0\n",
      "Number of Covered_Recipient_Type only exist in file 2: 2\n"
     ]
    }
   ],
   "source": [
    "print('Number of Covered_Recipient_Type exist in both files: ' + \n",
    "      str(len(set(file1.Covered_Recipient_Type.unique()).intersection(file2.Covered_Recipient_Type.unique()))))\n",
    "print('Number of Covered_Recipient_Type only exist in file 1: ' + \n",
    "      str(len(set(file1.Covered_Recipient_Type.unique()).difference(file2.Covered_Recipient_Type.unique()))))\n",
    "print('Number of Covered_Recipient_Type only exist in file 2: ' + \n",
    "      str(len(set(file2.Covered_Recipient_Type.unique()).difference(file1.Covered_Recipient_Type.unique()))))"
   ]
  },
  {
   "cell_type": "code",
   "execution_count": 13,
   "metadata": {},
   "outputs": [
    {
     "data": {
      "text/html": [
       "<div>\n",
       "<style scoped>\n",
       "    .dataframe tbody tr th:only-of-type {\n",
       "        vertical-align: middle;\n",
       "    }\n",
       "\n",
       "    .dataframe tbody tr th {\n",
       "        vertical-align: top;\n",
       "    }\n",
       "\n",
       "    .dataframe thead th {\n",
       "        text-align: right;\n",
       "    }\n",
       "</style>\n",
       "<table border=\"1\" class=\"dataframe\">\n",
       "  <thead>\n",
       "    <tr style=\"text-align: right;\">\n",
       "      <th></th>\n",
       "      <th>Covered_Recipient_Type</th>\n",
       "      <th>Teaching_Hospital_ID</th>\n",
       "      <th>Physician_Profile_ID</th>\n",
       "      <th>Recipient_City</th>\n",
       "      <th>Recipient_State</th>\n",
       "      <th>Recipient_Country</th>\n",
       "      <th>Recipient_Province</th>\n",
       "      <th>Physician_Primary_Type</th>\n",
       "      <th>Physician_Specialty</th>\n",
       "      <th>Applicable_Manufacturer_or_Applicable_GPO_Making_Payment_ID</th>\n",
       "      <th>...</th>\n",
       "      <th>Indicate_Drug_or_Biological_or_Device_or_Medical_Supply_5</th>\n",
       "      <th>Product_Category_or_Therapeutic_Area_5</th>\n",
       "      <th>Name_of_Drug_or_Biological_or_Device_or_Medical_Supply_5</th>\n",
       "      <th>Associated_Drug_or_Biological_NDC_5</th>\n",
       "      <th>Total_Amount_of_Payment_USDollars</th>\n",
       "      <th>Date_of_Payment</th>\n",
       "      <th>Form_of_Payment_or_Transfer_of_Value</th>\n",
       "      <th>Delay_in_Publication_Indicator</th>\n",
       "      <th>Dispute_Status_for_Publication</th>\n",
       "      <th>y</th>\n",
       "    </tr>\n",
       "  </thead>\n",
       "  <tbody>\n",
       "    <tr>\n",
       "      <th>151632</th>\n",
       "      <td>Non-covered Recipient Individual</td>\n",
       "      <td>NaN</td>\n",
       "      <td>NaN</td>\n",
       "      <td>NaN</td>\n",
       "      <td>NaN</td>\n",
       "      <td>NaN</td>\n",
       "      <td>NaN</td>\n",
       "      <td>NaN</td>\n",
       "      <td>NaN</td>\n",
       "      <td>100000011162</td>\n",
       "      <td>...</td>\n",
       "      <td>NaN</td>\n",
       "      <td>NaN</td>\n",
       "      <td>NaN</td>\n",
       "      <td>NaN</td>\n",
       "      <td>9000.00</td>\n",
       "      <td>03/13/2017</td>\n",
       "      <td>Cash or cash equivalent</td>\n",
       "      <td>No</td>\n",
       "      <td>No</td>\n",
       "      <td>1</td>\n",
       "    </tr>\n",
       "    <tr>\n",
       "      <th>152592</th>\n",
       "      <td>Non-covered Recipient Individual</td>\n",
       "      <td>NaN</td>\n",
       "      <td>NaN</td>\n",
       "      <td>NaN</td>\n",
       "      <td>NaN</td>\n",
       "      <td>NaN</td>\n",
       "      <td>NaN</td>\n",
       "      <td>NaN</td>\n",
       "      <td>NaN</td>\n",
       "      <td>100000005736</td>\n",
       "      <td>...</td>\n",
       "      <td>NaN</td>\n",
       "      <td>NaN</td>\n",
       "      <td>NaN</td>\n",
       "      <td>NaN</td>\n",
       "      <td>1200.00</td>\n",
       "      <td>08/31/2017</td>\n",
       "      <td>Cash or cash equivalent</td>\n",
       "      <td>No</td>\n",
       "      <td>No</td>\n",
       "      <td>1</td>\n",
       "    </tr>\n",
       "    <tr>\n",
       "      <th>159274</th>\n",
       "      <td>Non-covered Recipient Individual</td>\n",
       "      <td>NaN</td>\n",
       "      <td>NaN</td>\n",
       "      <td>NaN</td>\n",
       "      <td>NaN</td>\n",
       "      <td>NaN</td>\n",
       "      <td>NaN</td>\n",
       "      <td>NaN</td>\n",
       "      <td>NaN</td>\n",
       "      <td>100000010610</td>\n",
       "      <td>...</td>\n",
       "      <td>NaN</td>\n",
       "      <td>NaN</td>\n",
       "      <td>NaN</td>\n",
       "      <td>NaN</td>\n",
       "      <td>5042.00</td>\n",
       "      <td>01/31/2017</td>\n",
       "      <td>Cash or cash equivalent</td>\n",
       "      <td>No</td>\n",
       "      <td>No</td>\n",
       "      <td>1</td>\n",
       "    </tr>\n",
       "    <tr>\n",
       "      <th>161721</th>\n",
       "      <td>Non-covered Recipient Individual</td>\n",
       "      <td>NaN</td>\n",
       "      <td>NaN</td>\n",
       "      <td>NaN</td>\n",
       "      <td>NaN</td>\n",
       "      <td>NaN</td>\n",
       "      <td>NaN</td>\n",
       "      <td>NaN</td>\n",
       "      <td>NaN</td>\n",
       "      <td>100000005676</td>\n",
       "      <td>...</td>\n",
       "      <td>NaN</td>\n",
       "      <td>NaN</td>\n",
       "      <td>NaN</td>\n",
       "      <td>NaN</td>\n",
       "      <td>2351.25</td>\n",
       "      <td>06/07/2017</td>\n",
       "      <td>Cash or cash equivalent</td>\n",
       "      <td>No</td>\n",
       "      <td>No</td>\n",
       "      <td>1</td>\n",
       "    </tr>\n",
       "    <tr>\n",
       "      <th>239572</th>\n",
       "      <td>Non-covered Recipient Individual</td>\n",
       "      <td>NaN</td>\n",
       "      <td>NaN</td>\n",
       "      <td>NaN</td>\n",
       "      <td>NaN</td>\n",
       "      <td>NaN</td>\n",
       "      <td>NaN</td>\n",
       "      <td>NaN</td>\n",
       "      <td>NaN</td>\n",
       "      <td>100000000081</td>\n",
       "      <td>...</td>\n",
       "      <td>NaN</td>\n",
       "      <td>NaN</td>\n",
       "      <td>NaN</td>\n",
       "      <td>NaN</td>\n",
       "      <td>6000.00</td>\n",
       "      <td>10/03/2017</td>\n",
       "      <td>Cash or cash equivalent</td>\n",
       "      <td>No</td>\n",
       "      <td>No</td>\n",
       "      <td>1</td>\n",
       "    </tr>\n",
       "  </tbody>\n",
       "</table>\n",
       "<p>5 rows × 42 columns</p>\n",
       "</div>"
      ],
      "text/plain": [
       "                  Covered_Recipient_Type  Teaching_Hospital_ID  \\\n",
       "151632  Non-covered Recipient Individual                   NaN   \n",
       "152592  Non-covered Recipient Individual                   NaN   \n",
       "159274  Non-covered Recipient Individual                   NaN   \n",
       "161721  Non-covered Recipient Individual                   NaN   \n",
       "239572  Non-covered Recipient Individual                   NaN   \n",
       "\n",
       "        Physician_Profile_ID Recipient_City Recipient_State Recipient_Country  \\\n",
       "151632                   NaN            NaN             NaN               NaN   \n",
       "152592                   NaN            NaN             NaN               NaN   \n",
       "159274                   NaN            NaN             NaN               NaN   \n",
       "161721                   NaN            NaN             NaN               NaN   \n",
       "239572                   NaN            NaN             NaN               NaN   \n",
       "\n",
       "       Recipient_Province Physician_Primary_Type Physician_Specialty  \\\n",
       "151632                NaN                    NaN                 NaN   \n",
       "152592                NaN                    NaN                 NaN   \n",
       "159274                NaN                    NaN                 NaN   \n",
       "161721                NaN                    NaN                 NaN   \n",
       "239572                NaN                    NaN                 NaN   \n",
       "\n",
       "        Applicable_Manufacturer_or_Applicable_GPO_Making_Payment_ID ...  \\\n",
       "151632                                       100000011162           ...   \n",
       "152592                                       100000005736           ...   \n",
       "159274                                       100000010610           ...   \n",
       "161721                                       100000005676           ...   \n",
       "239572                                       100000000081           ...   \n",
       "\n",
       "       Indicate_Drug_or_Biological_or_Device_or_Medical_Supply_5  \\\n",
       "151632                                                NaN          \n",
       "152592                                                NaN          \n",
       "159274                                                NaN          \n",
       "161721                                                NaN          \n",
       "239572                                                NaN          \n",
       "\n",
       "       Product_Category_or_Therapeutic_Area_5  \\\n",
       "151632                                    NaN   \n",
       "152592                                    NaN   \n",
       "159274                                    NaN   \n",
       "161721                                    NaN   \n",
       "239572                                    NaN   \n",
       "\n",
       "       Name_of_Drug_or_Biological_or_Device_or_Medical_Supply_5  \\\n",
       "151632                                                NaN         \n",
       "152592                                                NaN         \n",
       "159274                                                NaN         \n",
       "161721                                                NaN         \n",
       "239572                                                NaN         \n",
       "\n",
       "       Associated_Drug_or_Biological_NDC_5 Total_Amount_of_Payment_USDollars  \\\n",
       "151632                                 NaN                           9000.00   \n",
       "152592                                 NaN                           1200.00   \n",
       "159274                                 NaN                           5042.00   \n",
       "161721                                 NaN                           2351.25   \n",
       "239572                                 NaN                           6000.00   \n",
       "\n",
       "       Date_of_Payment Form_of_Payment_or_Transfer_of_Value  \\\n",
       "151632      03/13/2017              Cash or cash equivalent   \n",
       "152592      08/31/2017              Cash or cash equivalent   \n",
       "159274      01/31/2017              Cash or cash equivalent   \n",
       "161721      06/07/2017              Cash or cash equivalent   \n",
       "239572      10/03/2017              Cash or cash equivalent   \n",
       "\n",
       "       Delay_in_Publication_Indicator Dispute_Status_for_Publication  y  \n",
       "151632                             No                             No  1  \n",
       "152592                             No                             No  1  \n",
       "159274                             No                             No  1  \n",
       "161721                             No                             No  1  \n",
       "239572                             No                             No  1  \n",
       "\n",
       "[5 rows x 42 columns]"
      ]
     },
     "execution_count": 13,
     "metadata": {},
     "output_type": "execute_result"
    }
   ],
   "source": [
    "file2[file2.Covered_Recipient_Type == 'Non-covered Recipient Individual'].head()"
   ]
  },
  {
   "cell_type": "code",
   "execution_count": 14,
   "metadata": {},
   "outputs": [
    {
     "data": {
      "text/html": [
       "<div>\n",
       "<style scoped>\n",
       "    .dataframe tbody tr th:only-of-type {\n",
       "        vertical-align: middle;\n",
       "    }\n",
       "\n",
       "    .dataframe tbody tr th {\n",
       "        vertical-align: top;\n",
       "    }\n",
       "\n",
       "    .dataframe thead th {\n",
       "        text-align: right;\n",
       "    }\n",
       "</style>\n",
       "<table border=\"1\" class=\"dataframe\">\n",
       "  <thead>\n",
       "    <tr style=\"text-align: right;\">\n",
       "      <th></th>\n",
       "      <th>Covered_Recipient_Type</th>\n",
       "      <th>Teaching_Hospital_ID</th>\n",
       "      <th>Physician_Profile_ID</th>\n",
       "      <th>Recipient_City</th>\n",
       "      <th>Recipient_State</th>\n",
       "      <th>Recipient_Country</th>\n",
       "      <th>Recipient_Province</th>\n",
       "      <th>Physician_Primary_Type</th>\n",
       "      <th>Physician_Specialty</th>\n",
       "      <th>Applicable_Manufacturer_or_Applicable_GPO_Making_Payment_ID</th>\n",
       "      <th>...</th>\n",
       "      <th>Indicate_Drug_or_Biological_or_Device_or_Medical_Supply_5</th>\n",
       "      <th>Product_Category_or_Therapeutic_Area_5</th>\n",
       "      <th>Name_of_Drug_or_Biological_or_Device_or_Medical_Supply_5</th>\n",
       "      <th>Associated_Drug_or_Biological_NDC_5</th>\n",
       "      <th>Total_Amount_of_Payment_USDollars</th>\n",
       "      <th>Date_of_Payment</th>\n",
       "      <th>Form_of_Payment_or_Transfer_of_Value</th>\n",
       "      <th>Delay_in_Publication_Indicator</th>\n",
       "      <th>Dispute_Status_for_Publication</th>\n",
       "      <th>y</th>\n",
       "    </tr>\n",
       "  </thead>\n",
       "  <tbody>\n",
       "    <tr>\n",
       "      <th>114512</th>\n",
       "      <td>Non-covered Recipient Entity</td>\n",
       "      <td>NaN</td>\n",
       "      <td>NaN</td>\n",
       "      <td>San Antonio</td>\n",
       "      <td>TX</td>\n",
       "      <td>United States</td>\n",
       "      <td>NaN</td>\n",
       "      <td>NaN</td>\n",
       "      <td>NaN</td>\n",
       "      <td>100000010400</td>\n",
       "      <td>...</td>\n",
       "      <td>NaN</td>\n",
       "      <td>NaN</td>\n",
       "      <td>NaN</td>\n",
       "      <td>NaN</td>\n",
       "      <td>211.95</td>\n",
       "      <td>12/22/2017</td>\n",
       "      <td>Cash or cash equivalent</td>\n",
       "      <td>No</td>\n",
       "      <td>No</td>\n",
       "      <td>1</td>\n",
       "    </tr>\n",
       "    <tr>\n",
       "      <th>114513</th>\n",
       "      <td>Non-covered Recipient Entity</td>\n",
       "      <td>NaN</td>\n",
       "      <td>NaN</td>\n",
       "      <td>Munster</td>\n",
       "      <td>IN</td>\n",
       "      <td>United States</td>\n",
       "      <td>NaN</td>\n",
       "      <td>NaN</td>\n",
       "      <td>NaN</td>\n",
       "      <td>100000010400</td>\n",
       "      <td>...</td>\n",
       "      <td>NaN</td>\n",
       "      <td>NaN</td>\n",
       "      <td>NaN</td>\n",
       "      <td>NaN</td>\n",
       "      <td>500.00</td>\n",
       "      <td>04/20/2017</td>\n",
       "      <td>Cash or cash equivalent</td>\n",
       "      <td>No</td>\n",
       "      <td>No</td>\n",
       "      <td>1</td>\n",
       "    </tr>\n",
       "    <tr>\n",
       "      <th>114514</th>\n",
       "      <td>Non-covered Recipient Entity</td>\n",
       "      <td>NaN</td>\n",
       "      <td>NaN</td>\n",
       "      <td>Munster</td>\n",
       "      <td>IN</td>\n",
       "      <td>United States</td>\n",
       "      <td>NaN</td>\n",
       "      <td>NaN</td>\n",
       "      <td>NaN</td>\n",
       "      <td>100000010400</td>\n",
       "      <td>...</td>\n",
       "      <td>NaN</td>\n",
       "      <td>NaN</td>\n",
       "      <td>NaN</td>\n",
       "      <td>NaN</td>\n",
       "      <td>500.00</td>\n",
       "      <td>07/27/2017</td>\n",
       "      <td>Cash or cash equivalent</td>\n",
       "      <td>No</td>\n",
       "      <td>No</td>\n",
       "      <td>1</td>\n",
       "    </tr>\n",
       "    <tr>\n",
       "      <th>114515</th>\n",
       "      <td>Non-covered Recipient Entity</td>\n",
       "      <td>NaN</td>\n",
       "      <td>NaN</td>\n",
       "      <td>Munster</td>\n",
       "      <td>IN</td>\n",
       "      <td>United States</td>\n",
       "      <td>NaN</td>\n",
       "      <td>NaN</td>\n",
       "      <td>NaN</td>\n",
       "      <td>100000010400</td>\n",
       "      <td>...</td>\n",
       "      <td>NaN</td>\n",
       "      <td>NaN</td>\n",
       "      <td>NaN</td>\n",
       "      <td>NaN</td>\n",
       "      <td>500.00</td>\n",
       "      <td>10/26/2017</td>\n",
       "      <td>Cash or cash equivalent</td>\n",
       "      <td>No</td>\n",
       "      <td>No</td>\n",
       "      <td>1</td>\n",
       "    </tr>\n",
       "    <tr>\n",
       "      <th>114516</th>\n",
       "      <td>Non-covered Recipient Entity</td>\n",
       "      <td>NaN</td>\n",
       "      <td>NaN</td>\n",
       "      <td>West Palm Beach</td>\n",
       "      <td>FL</td>\n",
       "      <td>United States</td>\n",
       "      <td>NaN</td>\n",
       "      <td>NaN</td>\n",
       "      <td>NaN</td>\n",
       "      <td>100000010400</td>\n",
       "      <td>...</td>\n",
       "      <td>NaN</td>\n",
       "      <td>NaN</td>\n",
       "      <td>NaN</td>\n",
       "      <td>NaN</td>\n",
       "      <td>3500.00</td>\n",
       "      <td>11/02/2017</td>\n",
       "      <td>Cash or cash equivalent</td>\n",
       "      <td>No</td>\n",
       "      <td>No</td>\n",
       "      <td>1</td>\n",
       "    </tr>\n",
       "  </tbody>\n",
       "</table>\n",
       "<p>5 rows × 42 columns</p>\n",
       "</div>"
      ],
      "text/plain": [
       "              Covered_Recipient_Type  Teaching_Hospital_ID  \\\n",
       "114512  Non-covered Recipient Entity                   NaN   \n",
       "114513  Non-covered Recipient Entity                   NaN   \n",
       "114514  Non-covered Recipient Entity                   NaN   \n",
       "114515  Non-covered Recipient Entity                   NaN   \n",
       "114516  Non-covered Recipient Entity                   NaN   \n",
       "\n",
       "        Physician_Profile_ID   Recipient_City Recipient_State  \\\n",
       "114512                   NaN      San Antonio              TX   \n",
       "114513                   NaN          Munster              IN   \n",
       "114514                   NaN          Munster              IN   \n",
       "114515                   NaN          Munster              IN   \n",
       "114516                   NaN  West Palm Beach              FL   \n",
       "\n",
       "       Recipient_Country Recipient_Province Physician_Primary_Type  \\\n",
       "114512     United States                NaN                    NaN   \n",
       "114513     United States                NaN                    NaN   \n",
       "114514     United States                NaN                    NaN   \n",
       "114515     United States                NaN                    NaN   \n",
       "114516     United States                NaN                    NaN   \n",
       "\n",
       "       Physician_Specialty  \\\n",
       "114512                 NaN   \n",
       "114513                 NaN   \n",
       "114514                 NaN   \n",
       "114515                 NaN   \n",
       "114516                 NaN   \n",
       "\n",
       "        Applicable_Manufacturer_or_Applicable_GPO_Making_Payment_ID ...  \\\n",
       "114512                                       100000010400           ...   \n",
       "114513                                       100000010400           ...   \n",
       "114514                                       100000010400           ...   \n",
       "114515                                       100000010400           ...   \n",
       "114516                                       100000010400           ...   \n",
       "\n",
       "       Indicate_Drug_or_Biological_or_Device_or_Medical_Supply_5  \\\n",
       "114512                                                NaN          \n",
       "114513                                                NaN          \n",
       "114514                                                NaN          \n",
       "114515                                                NaN          \n",
       "114516                                                NaN          \n",
       "\n",
       "       Product_Category_or_Therapeutic_Area_5  \\\n",
       "114512                                    NaN   \n",
       "114513                                    NaN   \n",
       "114514                                    NaN   \n",
       "114515                                    NaN   \n",
       "114516                                    NaN   \n",
       "\n",
       "       Name_of_Drug_or_Biological_or_Device_or_Medical_Supply_5  \\\n",
       "114512                                                NaN         \n",
       "114513                                                NaN         \n",
       "114514                                                NaN         \n",
       "114515                                                NaN         \n",
       "114516                                                NaN         \n",
       "\n",
       "       Associated_Drug_or_Biological_NDC_5 Total_Amount_of_Payment_USDollars  \\\n",
       "114512                                 NaN                            211.95   \n",
       "114513                                 NaN                            500.00   \n",
       "114514                                 NaN                            500.00   \n",
       "114515                                 NaN                            500.00   \n",
       "114516                                 NaN                           3500.00   \n",
       "\n",
       "       Date_of_Payment Form_of_Payment_or_Transfer_of_Value  \\\n",
       "114512      12/22/2017              Cash or cash equivalent   \n",
       "114513      04/20/2017              Cash or cash equivalent   \n",
       "114514      07/27/2017              Cash or cash equivalent   \n",
       "114515      10/26/2017              Cash or cash equivalent   \n",
       "114516      11/02/2017              Cash or cash equivalent   \n",
       "\n",
       "       Delay_in_Publication_Indicator Dispute_Status_for_Publication  y  \n",
       "114512                             No                             No  1  \n",
       "114513                             No                             No  1  \n",
       "114514                             No                             No  1  \n",
       "114515                             No                             No  1  \n",
       "114516                             No                             No  1  \n",
       "\n",
       "[5 rows x 42 columns]"
      ]
     },
     "execution_count": 14,
     "metadata": {},
     "output_type": "execute_result"
    }
   ],
   "source": [
    "file2[file2.Covered_Recipient_Type == 'Non-covered Recipient Entity'].head()"
   ]
  },
  {
   "cell_type": "markdown",
   "metadata": {},
   "source": [
    "We can found there are two types of Non-covered Recipient Entities that only exist in file 2 (label 1), which means inclusion of this feature will be an information leak. If we use this feature, our model will be unrealistically accurate, and as such, we will drop this column."
   ]
  },
  {
   "cell_type": "code",
   "execution_count": 15,
   "metadata": {},
   "outputs": [],
   "source": [
    "# drop col\n",
    "drop_col = ['Covered_Recipient_Type']"
   ]
  },
  {
   "cell_type": "markdown",
   "metadata": {},
   "source": [
    "#### Teaching_Hospital_ID"
   ]
  },
  {
   "cell_type": "markdown",
   "metadata": {},
   "source": [
    "Upon further consideration of what this feature actually means, we think it will be best to exclude this feature for the following reasons:\n",
    "\n",
    "1. We will need to convert this to a categorical variable, as the integer representation of Hospital IDhas no relation to actual numbers. As such, One-Hot Encoding this feature, for example, will cause the feature space to blow up, which we would like to avoid. \n",
    "\n",
    "2. New hospitals may appear, which our model (if feature is included) will not be able to deal with.\n"
   ]
  },
  {
   "cell_type": "code",
   "execution_count": 16,
   "metadata": {},
   "outputs": [],
   "source": [
    "drop_col.append('Teaching_Hospital_ID')"
   ]
  },
  {
   "cell_type": "markdown",
   "metadata": {},
   "source": [
    "#### Physician_Profile_ID"
   ]
  },
  {
   "cell_type": "code",
   "execution_count": 17,
   "metadata": {},
   "outputs": [
    {
     "name": "stdout",
     "output_type": "stream",
     "text": [
      "Number of Physician_Profile_ID exist in both files: 5350\n",
      "Number of Physician_Profile_ID only exist in file 1: 619272\n",
      "Number of Physician_Profile_ID only exist in file 2: 727\n"
     ]
    }
   ],
   "source": [
    "print('Number of Physician_Profile_ID exist in both files: ' + \n",
    "      str(len(set(file1.Physician_Profile_ID.unique()).intersection(file2.Physician_Profile_ID.unique()))))\n",
    "print('Number of Physician_Profile_ID only exist in file 1: ' + \n",
    "      str(len(set(file1.Physician_Profile_ID.unique()).difference(file2.Physician_Profile_ID.unique()))))\n",
    "print('Number of Physician_Profile_ID only exist in file 2: ' + \n",
    "      str(len(set(file2.Physician_Profile_ID.unique()).difference(file1.Physician_Profile_ID.unique()))))"
   ]
  },
  {
   "cell_type": "markdown",
   "metadata": {},
   "source": [
    "For the same reasons outlined above, we will also exclude Physician_Profile_ID. There is an even greater quantity of physicians (over half a million), and an even greater rate of new physicians appearing, therefore making inclusion of this feature unnecessary and expensive."
   ]
  },
  {
   "cell_type": "code",
   "execution_count": 18,
   "metadata": {},
   "outputs": [],
   "source": [
    "drop_col.append('Physician_Profile_ID')"
   ]
  },
  {
   "cell_type": "markdown",
   "metadata": {},
   "source": [
    "#### Recipient Country, Province, State and City"
   ]
  },
  {
   "cell_type": "code",
   "execution_count": 19,
   "metadata": {},
   "outputs": [
    {
     "data": {
      "image/png": "[encoded data removed]",
      "text/plain": [
       "<Figure size 720x720 with 1 Axes>"
      ]
     },
     "metadata": {
      "needs_background": "light"
     },
     "output_type": "display_data"
    }
   ],
   "source": [
    "f4, ax4 = plt.subplots(figsize= (10,10))\n",
    "ax4 = sns.countplot(y='Recipient_Country', hue = 'y', data = df)\n",
    "_ = ax4.set(xlabel = 'Type Counts', ylabel = '')"
   ]
  },
  {
   "cell_type": "markdown",
   "metadata": {},
   "source": [
    "Initially appears to be a useless feature, but we will try to plot on a logarithmic scale to see if it reveals anything:"
   ]
  },
  {
   "cell_type": "code",
   "execution_count": 20,
   "metadata": {},
   "outputs": [
    {
     "data": {
      "image/png": "[encoded data removed]",
      "text/plain": [
       "<Figure size 720x720 with 1 Axes>"
      ]
     },
     "metadata": {
      "needs_background": "light"
     },
     "output_type": "display_data"
    }
   ],
   "source": [
    "f4, ax4 = plt.subplots(figsize= (10,10))\n",
    "ax4 = sns.countplot(y='Recipient_Country', hue = 'y', data = df)\n",
    "_ = ax4.set(xlabel = 'Type Counts', ylabel = '')\n",
    "_ = ax4.set(xscale = 'log')"
   ]
  },
  {
   "cell_type": "code",
   "execution_count": 21,
   "metadata": {},
   "outputs": [
    {
     "name": "stdout",
     "output_type": "stream",
     "text": [
      "United States                           9.999678e-01\n",
      "United States Minor Outlying Islands    1.434756e-05\n",
      "Mexico                                  4.407421e-06\n",
      "Canada                                  3.469672e-06\n",
      "Japan                                   2.156823e-06\n",
      "Germany                                 1.687948e-06\n",
      "Great Britain (Uk)                      9.377491e-07\n",
      "Italy                                   8.439742e-07\n",
      "United Arab Emirates                    8.439742e-07\n",
      "India                                   7.501993e-07\n",
      "Thailand                                5.626495e-07\n",
      "Jordan                                  4.688746e-07\n",
      "Antigua And Barbuda                     3.750996e-07\n",
      "Pakistan                                2.813247e-07\n",
      "Greece                                  1.875498e-07\n",
      "Peru                                    1.875498e-07\n",
      "Australia                               1.875498e-07\n",
      "Aland Islands                           9.377491e-08\n",
      "Bahrain                                 9.377491e-08\n",
      "Zimbabwe                                9.377491e-08\n",
      "Israel                                  9.377491e-08\n",
      "Turkey                                  9.377491e-08\n",
      "Name: Recipient_Country, dtype: float64\n"
     ]
    }
   ],
   "source": [
    "print(df.Recipient_Country[ (df.y == 0) ].value_counts(dropna = False) / \n",
    "      df.y.value_counts()[0])"
   ]
  },
  {
   "cell_type": "code",
   "execution_count": 22,
   "metadata": {},
   "outputs": [
    {
     "name": "stdout",
     "output_type": "stream",
     "text": [
      "United States                           0.998151\n",
      "NaN                                     0.001067\n",
      "Great Britain (Uk)                      0.000672\n",
      "Canada                                  0.000071\n",
      "Belgium                                 0.000027\n",
      "United States Minor Outlying Islands    0.000005\n",
      "Denmark                                 0.000002\n",
      "Japan                                   0.000002\n",
      "Poland                                  0.000002\n",
      "Germany                                 0.000002\n",
      "Name: Recipient_Country, dtype: float64\n"
     ]
    }
   ],
   "source": [
    "print(df.Recipient_Country[ (df.y == 1) ].value_counts(dropna = False) / \n",
    "      df.y.value_counts()[1])"
   ]
  },
  {
   "cell_type": "markdown",
   "metadata": {},
   "source": [
    "In absolute scale, we can find almost all transactions are in the United States, but with a log scale, we see that the higher proportion of research payments reported outside the United States may make this feature helpful, even if only about 2 in 1000 transactions occur outside of the US. We can reduce the unique values to 'United States' and 'Others' for more generalizable model."
   ]
  },
  {
   "cell_type": "code",
   "execution_count": 23,
   "metadata": {},
   "outputs": [
    {
     "data": {
      "image/png": "[encoded data removed]",
      "text/plain": [
       "<Figure size 720x720 with 1 Axes>"
      ]
     },
     "metadata": {
      "needs_background": "light"
     },
     "output_type": "display_data"
    }
   ],
   "source": [
    "f4, ax4 = plt.subplots(figsize= (10,10))\n",
    "ax4 = sns.countplot(y='Recipient_Province', hue = 'y', data = df)\n",
    "_ = ax4.set(xlabel = 'Type Counts', ylabel = 'Province')\n"
   ]
  },
  {
   "cell_type": "markdown",
   "metadata": {},
   "source": [
    "There are relatively few data points with province values included, and further, there is a lot of inconsitancy in how province values are written. For example, this has both \"FLORIDA\" and \"FL\", \"ONTARIO\" and \"ON\", etc. We considered using this feature just for imputing a missing country entry, but decided for simplicity to simply exclude it."
   ]
  },
  {
   "cell_type": "code",
   "execution_count": 24,
   "metadata": {},
   "outputs": [],
   "source": [
    "drop_col.append('Recipient_Province')"
   ]
  },
  {
   "cell_type": "code",
   "execution_count": 25,
   "metadata": {},
   "outputs": [
    {
     "data": {
      "image/png": "[encoded data removed]",
      "text/plain": [
       "<Figure size 1152x432 with 1 Axes>"
      ]
     },
     "metadata": {
      "needs_background": "light"
     },
     "output_type": "display_data"
    }
   ],
   "source": [
    "f4, ax4 = plt.subplots(figsize= (16,6))\n",
    "ax4 = sns.countplot(x='Recipient_State', hue = 'y', data = df,\n",
    "                    order=df['Recipient_State'].value_counts().index)\n",
    "_ = ax4.set(ylabel = 'Type Counts', xlabel = 'State')\n",
    "_ = plt.xticks(rotation = 'vertical')"
   ]
  },
  {
   "cell_type": "code",
   "execution_count": 26,
   "metadata": {},
   "outputs": [
    {
     "data": {
      "image/png": "[encoded data removed]",
      "text/plain": [
       "<Figure size 1152x432 with 1 Axes>"
      ]
     },
     "metadata": {
      "needs_background": "light"
     },
     "output_type": "display_data"
    }
   ],
   "source": [
    "f4, ax4 = plt.subplots(figsize= (16,6))\n",
    "ax4 = sns.countplot(x='Recipient_State', hue = 'y', data = df,\n",
    "                   order=df['Recipient_State'].value_counts().index)\n",
    "_ = ax4.set(ylabel = 'Type Counts', xlabel = 'State')\n",
    "_ = plt.xticks(rotation = 'vertical')\n",
    "_ = ax4.set(yscale = 'log')"
   ]
  },
  {
   "cell_type": "markdown",
   "metadata": {},
   "source": [
    "**Recipient_State** might be a good predictor when coupled with country. But there are 62 states here, so it should be noted that some states are outside of the US."
   ]
  },
  {
   "cell_type": "code",
   "execution_count": 27,
   "metadata": {},
   "outputs": [
    {
     "name": "stdout",
     "output_type": "stream",
     "text": [
      "There are 20881 unique cities\n"
     ]
    }
   ],
   "source": [
    "cities = len(set(df.Recipient_City))\n",
    "print(\"There are {} unique cities\".format(cities))"
   ]
  },
  {
   "cell_type": "markdown",
   "metadata": {},
   "source": [
    "**Recipient_City** has too many unique values to use."
   ]
  },
  {
   "cell_type": "code",
   "execution_count": 28,
   "metadata": {},
   "outputs": [],
   "source": [
    "drop_col.append('Recipient_City')"
   ]
  },
  {
   "cell_type": "markdown",
   "metadata": {},
   "source": [
    "#### Physician Primary Type"
   ]
  },
  {
   "cell_type": "code",
   "execution_count": 29,
   "metadata": {},
   "outputs": [
    {
     "data": {
      "image/png": "[encoded data removed]",
      "text/plain": [
       "<Figure size 576x432 with 1 Axes>"
      ]
     },
     "metadata": {
      "needs_background": "light"
     },
     "output_type": "display_data"
    }
   ],
   "source": [
    "f5, ax5 = plt.subplots(figsize= (8,6))\n",
    "ax5 = sns.countplot(y='Physician_Primary_Type', hue = 'y', data = df)\n",
    "_ = ax5.set(xlabel = 'Type Counts', ylabel = '')\n",
    "_ = ax5.set(xscale = 'log')"
   ]
  },
  {
   "cell_type": "code",
   "execution_count": 30,
   "metadata": {},
   "outputs": [
    {
     "name": "stdout",
     "output_type": "stream",
     "text": [
      "Medical Doctor                  0.848597\n",
      "Doctor of Osteopathy            0.086043\n",
      "Doctor of Dentistry             0.030475\n",
      "Doctor of Optometry             0.021294\n",
      "Doctor of Podiatric Medicine    0.009343\n",
      "Chiropractor                    0.000333\n",
      "Name: Physician_Primary_Type, dtype: float64\n"
     ]
    }
   ],
   "source": [
    "print(df.Physician_Primary_Type[ (df.y == 0) & ~(df.Physician_Profile_ID.isnull()) ].value_counts(dropna = False) / \n",
    "      df.y.value_counts()[0])"
   ]
  },
  {
   "cell_type": "code",
   "execution_count": 31,
   "metadata": {},
   "outputs": [
    {
     "name": "stdout",
     "output_type": "stream",
     "text": [
      "Medical Doctor                  0.038455\n",
      "Doctor of Osteopathy            0.001422\n",
      "Doctor of Dentistry             0.000634\n",
      "Doctor of Optometry             0.000591\n",
      "Doctor of Podiatric Medicine    0.000081\n",
      "Chiropractor                    0.000002\n",
      "Name: Physician_Primary_Type, dtype: float64\n"
     ]
    }
   ],
   "source": [
    "print(df.Physician_Primary_Type[ (df.y == 1) & ~(df.Physician_Profile_ID.isnull()) ].value_counts(dropna = False) / \n",
    "      df.y.value_counts()[1])"
   ]
  },
  {
   "cell_type": "markdown",
   "metadata": {},
   "source": [
    "From the plot, we can see that the differences in the Research to Non-research transactions between different **Physician_Primary_Type** is quite pronounced, so this will be a good pridictor for the model."
   ]
  },
  {
   "cell_type": "markdown",
   "metadata": {},
   "source": [
    "#### Physician Specialty"
   ]
  },
  {
   "cell_type": "code",
   "execution_count": 32,
   "metadata": {},
   "outputs": [
    {
     "name": "stdout",
     "output_type": "stream",
     "text": [
      "428\n"
     ]
    },
    {
     "data": {
      "image/png": "[encoded data removed]",
      "text/plain": [
       "<Figure size 576x432 with 1 Axes>"
      ]
     },
     "metadata": {
      "needs_background": "light"
     },
     "output_type": "display_data"
    }
   ],
   "source": [
    "print(len(df.Physician_Specialty.unique()))\n",
    "f6, ax6 = plt.subplots(figsize= (8,6))\n",
    "ax6 = sns.countplot(y='Physician_Specialty', hue = 'y', data = df)\n",
    "plt.tick_params(\n",
    "    axis='y',          \n",
    "    which='both',\n",
    "    labelleft=False) \n",
    "_ = ax6.set(xlabel = 'Type Counts (log)', ylabel = '')\n",
    "_ = ax6.set(xscale = 'log')\n"
   ]
  },
  {
   "cell_type": "code",
   "execution_count": 33,
   "metadata": {},
   "outputs": [
    {
     "name": "stdout",
     "output_type": "stream",
     "text": [
      "Number of Physician_Specialty exist in both files: 176\n",
      "Number of Physician_Specialty only exist in file 1: 252\n",
      "Number of Physician_Specialty only exist in file 2: 0\n"
     ]
    }
   ],
   "source": [
    "print('Number of Physician_Specialty exist in both files: ' + \n",
    "      str(len(set(file1.Physician_Specialty.unique()).intersection(file2.Physician_Specialty.unique()))))\n",
    "print('Number of Physician_Specialty only exist in file 1: ' + \n",
    "      str(len(set(file1.Physician_Specialty.unique()).difference(file2.Physician_Specialty.unique()))))\n",
    "print('Number of Physician_Specialty only exist in file 2: ' + \n",
    "      str(len(set(file2.Physician_Specialty.unique()).difference(file1.Physician_Specialty.unique()))))"
   ]
  },
  {
   "cell_type": "code",
   "execution_count": 34,
   "metadata": {
    "scrolled": true
   },
   "outputs": [
    {
     "data": {
      "text/plain": [
       "array(['Allopathic & Osteopathic Physicians|General Practice',\n",
       "       'Allopathic & Osteopathic Physicians|Internal Medicine',\n",
       "       'Allopathic & Osteopathic Physicians|Radiology|Radiation Oncology',\n",
       "       'Allopathic & Osteopathic Physicians|Emergency Medicine',\n",
       "       'Allopathic & Osteopathic Physicians|Surgery|Plastic and Reconstructive Surgery',\n",
       "       'Allopathic & Osteopathic Physicians|Plastic Surgery',\n",
       "       'Allopathic & Osteopathic Physicians|Obstetrics & Gynecology',\n",
       "       'Allopathic & Osteopathic Physicians|Obstetrics & Gynecology|Gynecology',\n",
       "       'Allopathic & Osteopathic Physicians|Obstetrics & Gynecology|Gynecologic Oncology',\n",
       "       'Allopathic & Osteopathic Physicians|Dermatology',\n",
       "       'Allopathic & Osteopathic Physicians|Ophthalmology',\n",
       "       'Other Service Providers|Specialist',\n",
       "       'Allopathic & Osteopathic Physicians|Surgery',\n",
       "       'Dental Providers|Dentist|Oral and Maxillofacial Surgery',\n",
       "       'Allopathic & Osteopathic Physicians|Thoracic Surgery (Cardiothoracic Vascular Surgery)'],\n",
       "      dtype=object)"
      ]
     },
     "execution_count": 34,
     "metadata": {},
     "output_type": "execute_result"
    }
   ],
   "source": [
    "df.Physician_Specialty.unique()[:15]"
   ]
  },
  {
   "cell_type": "markdown",
   "metadata": {},
   "source": [
    "From the plot, the differences in the label proportions between the different **Physician_Specialty** categories could be indicative that this us a good pridictor, however several facts make this feature problematic:\n",
    "\n",
    "1. There are over 400 unique values, which would blow up the feature space if one-hot encoding\n",
    "2. There seems to be very little consistency in how physician specialties are reported\n",
    "2. There is significant overlap between physician specialties, which cannot be represented\n",
    "\n",
    "Hence, we will remove this feature."
   ]
  },
  {
   "cell_type": "code",
   "execution_count": 35,
   "metadata": {},
   "outputs": [],
   "source": [
    "drop_col.append('Physician_Specialty')"
   ]
  },
  {
   "cell_type": "markdown",
   "metadata": {},
   "source": [
    "#### Applicable Manufacturer or Applicable GPO Making Payment ID"
   ]
  },
  {
   "cell_type": "code",
   "execution_count": 36,
   "metadata": {
    "scrolled": false
   },
   "outputs": [
    {
     "data": {
      "image/png": "[encoded data removed]",
      "text/plain": [
       "<Figure size 1152x432 with 1 Axes>"
      ]
     },
     "metadata": {
      "needs_background": "light"
     },
     "output_type": "display_data"
    }
   ],
   "source": [
    "f7, ax7 = plt.subplots(figsize= (16,6))\n",
    "ax7 = sns.countplot(x='Applicable_Manufacturer_or_Applicable_GPO_Making_Payment_ID', \n",
    "                    hue = 'y', data = df)\n",
    "_ = ax7.set(ylabel = 'Type Counts (log)', xlabel = '')\n",
    "_ = ax7.set(yscale = 'log')\n",
    "plt.tick_params(\n",
    "    axis='x',          \n",
    "    which='both',\n",
    "    labelbottom=False)"
   ]
  },
  {
   "cell_type": "code",
   "execution_count": 37,
   "metadata": {},
   "outputs": [
    {
     "name": "stdout",
     "output_type": "stream",
     "text": [
      "Number of Applicable_Manufacturer_or_Applicable_GPO_Making_Payment_ID exist in both files: 515\n",
      "Number of Applicable_Manufacturer_or_Applicable_GPO_Making_Payment_ID only exist in file 1: 948\n",
      "Number of Applicable_Manufacturer_or_Applicable_GPO_Making_Payment_ID only exist in file 2: 32\n"
     ]
    }
   ],
   "source": [
    "print('Number of Applicable_Manufacturer_or_Applicable_GPO_Making_Payment_ID exist in both files: ' + \n",
    "      str(len(set(file1.Applicable_Manufacturer_or_Applicable_GPO_Making_Payment_ID.unique()).intersection(file2.Applicable_Manufacturer_or_Applicable_GPO_Making_Payment_ID.unique()))))\n",
    "print('Number of Applicable_Manufacturer_or_Applicable_GPO_Making_Payment_ID only exist in file 1: ' + \n",
    "      str(len(set(file1.Applicable_Manufacturer_or_Applicable_GPO_Making_Payment_ID.unique()).difference(file2.Applicable_Manufacturer_or_Applicable_GPO_Making_Payment_ID.unique()))))\n",
    "print('Number of Applicable_Manufacturer_or_Applicable_GPO_Making_Payment_ID only exist in file 2: ' + \n",
    "      str(len(set(file2.Applicable_Manufacturer_or_Applicable_GPO_Making_Payment_ID.unique()).difference(file1.Applicable_Manufacturer_or_Applicable_GPO_Making_Payment_ID.unique()))))"
   ]
  },
  {
   "cell_type": "code",
   "execution_count": 38,
   "metadata": {
    "scrolled": true
   },
   "outputs": [
    {
     "name": "stdout",
     "output_type": "stream",
     "text": [
      "Number of null values: 0\n"
     ]
    }
   ],
   "source": [
    "print(\"Number of null values: {}\".format(df.Applicable_Manufacturer_or_Applicable_GPO_Making_Payment_ID.isnull().sum()))"
   ]
  },
  {
   "cell_type": "code",
   "execution_count": 39,
   "metadata": {},
   "outputs": [],
   "source": [
    "drop_col.append('Applicable_Manufacturer_or_Applicable_GPO_Making_Payment_ID')"
   ]
  },
  {
   "cell_type": "markdown",
   "metadata": {},
   "source": [
    "**Applicable_Manufacturer_or_Applicable_GPO_Making_Payment_ID** simply contains too many unique values for us to be able to use, and further, it will obviously not be generalizable."
   ]
  },
  {
   "cell_type": "markdown",
   "metadata": {},
   "source": [
    "#### Total Amount of Payment USDollars"
   ]
  },
  {
   "cell_type": "code",
   "execution_count": 40,
   "metadata": {},
   "outputs": [
    {
     "data": {
      "image/png": "[encoded data removed]",
      "text/plain": [
       "<Figure size 1152x864 with 2 Axes>"
      ]
     },
     "metadata": {
      "needs_background": "light"
     },
     "output_type": "display_data"
    }
   ],
   "source": [
    "f8, ax8 = plt.subplots(2, 1, figsize= (16,12))\n",
    "_ = sns.distplot(df[df['y'] == 0].Total_Amount_of_Payment_USDollars, \n",
    "                 bins = 200, ax = ax8[0], kde = False)\n",
    "_ = ax8[0].set(yscale = 'log')\n",
    "_ = sns.distplot(df[df['y'] == 1].Total_Amount_of_Payment_USDollars, \n",
    "                 bins = 200, ax = ax8[1], kde = False)\n",
    "_ = ax8[1].set(yscale = 'log')"
   ]
  },
  {
   "cell_type": "code",
   "execution_count": 41,
   "metadata": {},
   "outputs": [
    {
     "name": "stdout",
     "output_type": "stream",
     "text": [
      "Number of missing values: 0\n"
     ]
    }
   ],
   "source": [
    "print(\"Number of missing values: {}\".format(df.Total_Amount_of_Payment_USDollars.isnull().sum()))"
   ]
  },
  {
   "cell_type": "markdown",
   "metadata": {},
   "source": [
    "There is no missing data of **Total_Amount_of_Payment_USDollars**, making this numerical variable easy to work with. We will obviously keep this feature."
   ]
  },
  {
   "cell_type": "markdown",
   "metadata": {},
   "source": [
    "#### Date of Payment\n",
    "Note, all data points are in 2017, we can drop the year. Unique date number is 365, basically every signle day has payment record. Let's bin using month."
   ]
  },
  {
   "cell_type": "code",
   "execution_count": 42,
   "metadata": {},
   "outputs": [],
   "source": [
    "# convert to datatime type and reduce to month only\n",
    "df['Date_of_Payment'] = pd.to_datetime(df.Date_of_Payment, format = \"%m/%d/%Y\")\n",
    "df['Date_of_Payment'] = pd.DatetimeIndex(df['Date_of_Payment']).month"
   ]
  },
  {
   "cell_type": "code",
   "execution_count": 43,
   "metadata": {},
   "outputs": [
    {
     "data": {
      "image/png": "[encoded data removed]",
      "text/plain": [
       "<Figure size 720x432 with 1 Axes>"
      ]
     },
     "metadata": {
      "needs_background": "light"
     },
     "output_type": "display_data"
    }
   ],
   "source": [
    "f10, ax10 = plt.subplots(figsize= (10,6))\n",
    "ax10 = sns.countplot(y='Date_of_Payment', hue = 'y', data = df)\n",
    "_ = ax10.set(xlabel = 'Counts', ylabel = 'Month')\n"
   ]
  },
  {
   "cell_type": "markdown",
   "metadata": {},
   "source": [
    "There seems to be very little variation in target variable ratios between months, so we will drop this feature."
   ]
  },
  {
   "cell_type": "code",
   "execution_count": 44,
   "metadata": {},
   "outputs": [],
   "source": [
    "drop_col.append('Date_of_Payment')"
   ]
  },
  {
   "cell_type": "markdown",
   "metadata": {},
   "source": [
    "#### Form_of_Payment_or_Transfer_of_Value"
   ]
  },
  {
   "cell_type": "code",
   "execution_count": 45,
   "metadata": {},
   "outputs": [
    {
     "data": {
      "image/png": "[encoded data removed]",
      "text/plain": [
       "<Figure size 720x432 with 1 Axes>"
      ]
     },
     "metadata": {
      "needs_background": "light"
     },
     "output_type": "display_data"
    }
   ],
   "source": [
    "f11, ax11 = plt.subplots(figsize= (10,6))\n",
    "ax11 = sns.countplot(y='Form_of_Payment_or_Transfer_of_Value', hue = 'y', data = df)\n",
    "_ = ax11.set(xlabel = '', ylabel = '')\n",
    "_ = ax11.set(xscale = 'log')"
   ]
  },
  {
   "cell_type": "code",
   "execution_count": 46,
   "metadata": {},
   "outputs": [
    {
     "name": "stdout",
     "output_type": "stream",
     "text": [
      "Number of Form_of_Payment_or_Transfer_of_Value exist in both files: 3\n",
      "Number of Form_of_Payment_or_Transfer_of_Value only exist in file 1: 3\n",
      "Number of Form_of_Payment_or_Transfer_of_Value only exist in file 2: 0\n"
     ]
    }
   ],
   "source": [
    "print('Number of Form_of_Payment_or_Transfer_of_Value exist in both files: ' + \n",
    "      str(len(set(file1.Form_of_Payment_or_Transfer_of_Value.unique()).intersection(\n",
    "          file2.Form_of_Payment_or_Transfer_of_Value.unique()))))\n",
    "print('Number of Form_of_Payment_or_Transfer_of_Value only exist in file 1: ' + \n",
    "      str(len(set(file1.Form_of_Payment_or_Transfer_of_Value.unique()).difference(\n",
    "          file2.Form_of_Payment_or_Transfer_of_Value.unique()))))\n",
    "print('Number of Form_of_Payment_or_Transfer_of_Value only exist in file 2: ' + \n",
    "      str(len(set(file2.Form_of_Payment_or_Transfer_of_Value.unique()).difference(\n",
    "          file1.Form_of_Payment_or_Transfer_of_Value.unique()))))"
   ]
  },
  {
   "cell_type": "code",
   "execution_count": 47,
   "metadata": {},
   "outputs": [
    {
     "name": "stdout",
     "output_type": "stream",
     "text": [
      "Cash or cash equivalent                           0.790085\n",
      "In-kind items and services                        0.209912\n",
      "Dividend, profit or other return on investment    0.000003\n",
      "Name: Form_of_Payment_or_Transfer_of_Value, dtype: float64\n"
     ]
    }
   ],
   "source": [
    "print(df.Form_of_Payment_or_Transfer_of_Value[(df.y == 1)].value_counts(dropna = False) / \n",
    "      df.y.value_counts()[1])"
   ]
  },
  {
   "cell_type": "markdown",
   "metadata": {},
   "source": [
    "Even though there are three categories that only appear in **Form_of_Payment_or_Transfer_of_Value**, we still consider this a valuable feature because the top three categories in the plot appear in much greater quantities, and clearly serve as important predictors given the disparity between target variable proportions between the categories."
   ]
  },
  {
   "cell_type": "markdown",
   "metadata": {},
   "source": [
    "#### Delay_in_Publication_Indicator"
   ]
  },
  {
   "cell_type": "code",
   "execution_count": 48,
   "metadata": {},
   "outputs": [
    {
     "data": {
      "image/png": "[encoded data removed]",
      "text/plain": [
       "<Figure size 720x432 with 1 Axes>"
      ]
     },
     "metadata": {
      "needs_background": "light"
     },
     "output_type": "display_data"
    }
   ],
   "source": [
    "f12, ax12 = plt.subplots(figsize= (10,6))\n",
    "ax12 = sns.countplot(y='Delay_in_Publication_Indicator', hue = 'y', data = df)\n",
    "_ = ax12.set(xlabel = '', ylabel = '')\n"
   ]
  },
  {
   "cell_type": "code",
   "execution_count": 49,
   "metadata": {},
   "outputs": [
    {
     "data": {
      "text/plain": [
       "array(['No'], dtype=object)"
      ]
     },
     "execution_count": 49,
     "metadata": {},
     "output_type": "execute_result"
    }
   ],
   "source": [
    "df.Delay_in_Publication_Indicator.isnull().sum()\n",
    "df.Delay_in_Publication_Indicator.unique()"
   ]
  },
  {
   "cell_type": "markdown",
   "metadata": {},
   "source": [
    "As we can see, there is only one unique value in **Delay_in_Publication_Indicator**, rendering it useless for our classification problem. As such, we will drop this feature."
   ]
  },
  {
   "cell_type": "code",
   "execution_count": 50,
   "metadata": {},
   "outputs": [],
   "source": [
    "drop_col.append('Delay_in_Publication_Indicator')"
   ]
  },
  {
   "cell_type": "markdown",
   "metadata": {},
   "source": [
    "#### Dispute_Status_for_Publication"
   ]
  },
  {
   "cell_type": "code",
   "execution_count": 51,
   "metadata": {},
   "outputs": [
    {
     "data": {
      "image/png": "[encoded data removed]",
      "text/plain": [
       "<Figure size 720x432 with 1 Axes>"
      ]
     },
     "metadata": {
      "needs_background": "light"
     },
     "output_type": "display_data"
    }
   ],
   "source": [
    "f13, ax13 = plt.subplots(figsize= (10,6))\n",
    "ax13 = sns.countplot(y='Dispute_Status_for_Publication', hue = 'y', data = df)\n",
    "_ = ax13.set(xlabel = '', ylabel = '')\n",
    "_ = ax13.set(xscale = 'log')"
   ]
  },
  {
   "cell_type": "code",
   "execution_count": 52,
   "metadata": {},
   "outputs": [
    {
     "name": "stdout",
     "output_type": "stream",
     "text": [
      "Number of missing values: 0\n"
     ]
    }
   ],
   "source": [
    "print(\"Number of missing values: {}\".format(df.Dispute_Status_for_Publication.isnull().sum()))"
   ]
  },
  {
   "cell_type": "markdown",
   "metadata": {},
   "source": [
    "#### Related Product Indicator"
   ]
  },
  {
   "cell_type": "code",
   "execution_count": 53,
   "metadata": {},
   "outputs": [
    {
     "data": {
      "image/png": "[encoded data removed]",
      "text/plain": [
       "<Figure size 720x432 with 1 Axes>"
      ]
     },
     "metadata": {
      "needs_background": "light"
     },
     "output_type": "display_data"
    }
   ],
   "source": [
    "f14, ax14 = plt.subplots(figsize= (10,6))\n",
    "ax14 = sns.countplot(y='Related_Product_Indicator', hue = 'y', data = df)\n",
    "_ = ax14.set(xlabel = 'Type Counts', ylabel = '')"
   ]
  },
  {
   "cell_type": "code",
   "execution_count": 54,
   "metadata": {},
   "outputs": [
    {
     "name": "stdout",
     "output_type": "stream",
     "text": [
      "Number of missing values: 0\n"
     ]
    }
   ],
   "source": [
    "print(\"Number of missing values: {}\".format(df.Related_Product_Indicator.isnull().sum()))"
   ]
  },
  {
   "cell_type": "markdown",
   "metadata": {},
   "source": [
    "#### Covered or Noncovered Indicator\n"
   ]
  },
  {
   "cell_type": "code",
   "execution_count": 55,
   "metadata": {},
   "outputs": [
    {
     "data": {
      "image/png": "[encoded data removed]",
      "text/plain": [
       "<Figure size 720x432 with 1 Axes>"
      ]
     },
     "metadata": {
      "needs_background": "light"
     },
     "output_type": "display_data"
    }
   ],
   "source": [
    "f15, ax15 = plt.subplots(figsize= (10,6))\n",
    "ax15 = sns.countplot(y='Covered_or_Noncovered_Indicator_1', hue = 'y', data = df)\n",
    "_ = ax15.set(xlabel = 'Type Counts', ylabel = '')"
   ]
  },
  {
   "cell_type": "code",
   "execution_count": 56,
   "metadata": {},
   "outputs": [
    {
     "name": "stdout",
     "output_type": "stream",
     "text": [
      "Covered        9.241863e-01\n",
      "Non-Covered    2.567651e-02\n",
      "NaN            9.377491e-08\n",
      "Name: Covered_or_Noncovered_Indicator_1, dtype: float64\n"
     ]
    }
   ],
   "source": [
    "print(df.Covered_or_Noncovered_Indicator_1[ (df.y == 0) & (df.Related_Product_Indicator == 'Yes')].value_counts(dropna = False) / \n",
    "      df.y.value_counts()[0])\n"
   ]
  },
  {
   "cell_type": "code",
   "execution_count": 57,
   "metadata": {},
   "outputs": [
    {
     "name": "stdout",
     "output_type": "stream",
     "text": [
      "Covered        0.630682\n",
      "Non-Covered    0.235295\n",
      "Name: Covered_or_Noncovered_Indicator_1, dtype: float64\n"
     ]
    }
   ],
   "source": [
    "print(df.Covered_or_Noncovered_Indicator_1[ (df.y == 1) & (df.Related_Product_Indicator == 'Yes')].value_counts(dropna = False) / \n",
    "      df.y.value_counts()[1])"
   ]
  },
  {
   "cell_type": "markdown",
   "metadata": {},
   "source": [
    "#### Indicate Drug or Biological or Device or Medical Supply 1"
   ]
  },
  {
   "cell_type": "code",
   "execution_count": 58,
   "metadata": {},
   "outputs": [
    {
     "data": {
      "image/png": "[encoded data removed]",
      "text/plain": [
       "<Figure size 720x432 with 1 Axes>"
      ]
     },
     "metadata": {
      "needs_background": "light"
     },
     "output_type": "display_data"
    }
   ],
   "source": [
    "f16, ax16 = plt.subplots(figsize= (10,6))\n",
    "ax16 = sns.countplot(y='Indicate_Drug_or_Biological_or_Device_or_Medical_Supply_1', hue = 'y', data = df)\n",
    "_ = ax16.set(xlabel = 'Type Counts', ylabel = '')"
   ]
  },
  {
   "cell_type": "code",
   "execution_count": 59,
   "metadata": {},
   "outputs": [
    {
     "name": "stdout",
     "output_type": "stream",
     "text": [
      "Drug              0.636632\n",
      "Device            0.193746\n",
      "Biological        0.097990\n",
      "NaN               0.020739\n",
      "Medical Supply    0.000756\n",
      "Name: Indicate_Drug_or_Biological_or_Device_or_Medical_Supply_1, dtype: float64\n"
     ]
    }
   ],
   "source": [
    "print(df.Indicate_Drug_or_Biological_or_Device_or_Medical_Supply_1[ (df.y == 0) & (df.Related_Product_Indicator == 'Yes')].value_counts(dropna = False) / \n",
    "      df.y.value_counts()[0])"
   ]
  },
  {
   "cell_type": "code",
   "execution_count": 60,
   "metadata": {},
   "outputs": [
    {
     "name": "stdout",
     "output_type": "stream",
     "text": [
      "Drug              0.449083\n",
      "NaN               0.161399\n",
      "Biological        0.145336\n",
      "Device            0.109995\n",
      "Medical Supply    0.000164\n",
      "Name: Indicate_Drug_or_Biological_or_Device_or_Medical_Supply_1, dtype: float64\n"
     ]
    }
   ],
   "source": [
    "print(df.Indicate_Drug_or_Biological_or_Device_or_Medical_Supply_1[ (df.y == 1) & (df.Related_Product_Indicator == 'Yes')].value_counts(dropna = False) / \n",
    "      df.y.value_counts()[1])"
   ]
  },
  {
   "cell_type": "markdown",
   "metadata": {},
   "source": [
    "#### Product Category or Therapeutic Area 1"
   ]
  },
  {
   "cell_type": "code",
   "execution_count": 61,
   "metadata": {},
   "outputs": [
    {
     "name": "stdout",
     "output_type": "stream",
     "text": [
      "2173\n"
     ]
    },
    {
     "data": {
      "image/png": "[encoded data removed]",
      "text/plain": [
       "<Figure size 720x432 with 1 Axes>"
      ]
     },
     "metadata": {
      "needs_background": "light"
     },
     "output_type": "display_data"
    }
   ],
   "source": [
    "print(len(df.Product_Category_or_Therapeutic_Area_1.unique()))\n",
    "f17, ax17 = plt.subplots(figsize= (10,6))\n",
    "ax17 = sns.countplot(y='Product_Category_or_Therapeutic_Area_1', hue = 'y', data = df)\n",
    "_ = ax17.set(xlabel = 'Type Counts', ylabel = '')\n",
    "_ = ax17.set(xscale = 'log')\n",
    "plt.tick_params(\n",
    "    axis='y',          \n",
    "    which='both',\n",
    "    labelleft=False)"
   ]
  },
  {
   "cell_type": "code",
   "execution_count": 62,
   "metadata": {},
   "outputs": [
    {
     "name": "stdout",
     "output_type": "stream",
     "text": [
      "Number of Product_Category_or_Therapeutic_Area_1 exist in both files: 593\n",
      "Number of Product_Category_or_Therapeutic_Area_1 only exist in file 1: 1486\n",
      "Number of Product_Category_or_Therapeutic_Area_1 only exist in file 2: 94\n"
     ]
    }
   ],
   "source": [
    "print('Number of Product_Category_or_Therapeutic_Area_1 exist in both files: ' + \n",
    "      str(len(set(file1.Product_Category_or_Therapeutic_Area_1.unique()).intersection(\n",
    "          file2.Product_Category_or_Therapeutic_Area_1.unique()))))\n",
    "print('Number of Product_Category_or_Therapeutic_Area_1 only exist in file 1: ' + \n",
    "      str(len(set(file1.Product_Category_or_Therapeutic_Area_1.unique()).difference(\n",
    "          file2.Product_Category_or_Therapeutic_Area_1.unique()))))\n",
    "print('Number of Product_Category_or_Therapeutic_Area_1 only exist in file 2: ' + \n",
    "      str(len(set(file2.Product_Category_or_Therapeutic_Area_1.unique()).difference(\n",
    "          file1.Product_Category_or_Therapeutic_Area_1.unique()))))"
   ]
  },
  {
   "cell_type": "code",
   "execution_count": 63,
   "metadata": {},
   "outputs": [
    {
     "name": "stdout",
     "output_type": "stream",
     "text": [
      "Product_Category_or_Therapeutic_Area_1\n",
      "Diabetes                         572969\n",
      "RESPIRATORY                      448862\n",
      "Cardiovascular & Metabolism      435761\n",
      "DIABETES                         352366\n",
      "Immunology                       349834\n",
      "CARDIOVASCULAR                   336615\n",
      "NEUROSCIENCE                     301894\n",
      "Cardiovascular and Metabolism    270123\n",
      "Oncology                         265595\n",
      "GASTROENTEROLOGY                 259236\n",
      "dtype: int64\n",
      "Product_Category_or_Therapeutic_Area_1\n",
      "Internal Medicine Rheumatology                                                                   1\n",
      "Internal                                                                                         1\n",
      "Immunoenzymatic                                                                                  1\n",
      "Inservice Hely & Weber Bracing                                                                   1\n",
      "Inhalation Therapy                                                                               1\n",
      "In-Vitro Diagnostic devices used for rapid detection and identification of bacteria and yeast    1\n",
      "In vitro diagnostic reagents                                                                     1\n",
      "Impressions                                                                                      1\n",
      "Implant for obstructive sleep apnea                                                              1\n",
      "00122891                                                                                         1\n",
      "dtype: int64\n"
     ]
    }
   ],
   "source": [
    "print((df.groupby('Product_Category_or_Therapeutic_Area_1').size()).sort_values(ascending=False)[:10])\n",
    "print((df.groupby('Product_Category_or_Therapeutic_Area_1').size()).sort_values(ascending=False)[-10:])"
   ]
  },
  {
   "cell_type": "markdown",
   "metadata": {},
   "source": [
    "The missing rate is too high, there are too many unique values, there are too many inconsistencies in reporting the product category, and the model will be unable to predict unseen categories. Therefore we will drop these features. "
   ]
  },
  {
   "cell_type": "code",
   "execution_count": 64,
   "metadata": {},
   "outputs": [],
   "source": [
    "drop_col.extend(['Product_Category_or_Therapeutic_Area_1',\n",
    "                 'Product_Category_or_Therapeutic_Area_2',\n",
    "                 'Product_Category_or_Therapeutic_Area_3',\n",
    "                 'Product_Category_or_Therapeutic_Area_4',\n",
    "                 'Product_Category_or_Therapeutic_Area_5'])"
   ]
  },
  {
   "cell_type": "code",
   "execution_count": 65,
   "metadata": {},
   "outputs": [
    {
     "name": "stdout",
     "output_type": "stream",
     "text": [
      "NaN    0.134023\n",
      "Name: Product_Category_or_Therapeutic_Area_1, dtype: float64\n"
     ]
    }
   ],
   "source": [
    "print(df.Product_Category_or_Therapeutic_Area_1[ (df.y == 1) & (df.Related_Product_Indicator == 'No')].value_counts(dropna = False) / \n",
    "      df.y.value_counts()[1])"
   ]
  },
  {
   "cell_type": "markdown",
   "metadata": {},
   "source": [
    "#### Name of Drug or Biological or Device or Medical Supply 1"
   ]
  },
  {
   "cell_type": "code",
   "execution_count": 66,
   "metadata": {},
   "outputs": [
    {
     "data": {
      "image/png": "[encoded data removed]",
      "text/plain": [
       "<Figure size 720x432 with 1 Axes>"
      ]
     },
     "metadata": {
      "needs_background": "light"
     },
     "output_type": "display_data"
    }
   ],
   "source": [
    "f18, ax18 = plt.subplots(figsize= (10,6))\n",
    "ax18 = sns.countplot(y='Name_of_Drug_or_Biological_or_Device_or_Medical_Supply_1', hue = 'y', data = df)\n",
    "_ = ax18.set(xlabel = 'Type Counts', ylabel = '')\n",
    "_ = ax18.set(xscale = 'log')\n",
    "plt.tick_params(\n",
    "    axis='y',          \n",
    "    which='both',\n",
    "    labelleft=False)"
   ]
  },
  {
   "cell_type": "code",
   "execution_count": 67,
   "metadata": {},
   "outputs": [
    {
     "name": "stdout",
     "output_type": "stream",
     "text": [
      "Number of Name_of_Drug_or_Biological_or_Device_or_Medical_Supply_1 exist in both files: 1534\n",
      "Number of Name_of_Drug_or_Biological_or_Device_or_Medical_Supply_1 only exist in file 1: 11444\n",
      "Number of Name_of_Drug_or_Biological_or_Device_or_Medical_Supply_1 only exist in file 2: 585\n"
     ]
    }
   ],
   "source": [
    "print('Number of Name_of_Drug_or_Biological_or_Device_or_Medical_Supply_1 exist in both files: ' + \n",
    "      str(len(set(file1.Name_of_Drug_or_Biological_or_Device_or_Medical_Supply_1.unique()).intersection(\n",
    "          file2.Name_of_Drug_or_Biological_or_Device_or_Medical_Supply_1.unique()))))\n",
    "print('Number of Name_of_Drug_or_Biological_or_Device_or_Medical_Supply_1 only exist in file 1: ' + \n",
    "      str(len(set(file1.Name_of_Drug_or_Biological_or_Device_or_Medical_Supply_1.unique()).difference(\n",
    "          file2.Name_of_Drug_or_Biological_or_Device_or_Medical_Supply_1.unique()))))\n",
    "print('Number of Name_of_Drug_or_Biological_or_Device_or_Medical_Supply_1 only exist in file 2: ' + \n",
    "      str(len(set(file2.Name_of_Drug_or_Biological_or_Device_or_Medical_Supply_1.unique()).difference(\n",
    "          file1.Name_of_Drug_or_Biological_or_Device_or_Medical_Supply_1.unique()))))"
   ]
  },
  {
   "cell_type": "markdown",
   "metadata": {},
   "source": [
    "For the same reasons as those outlined under **Product_Category_or_Therapeutic_Area**, we will also drop **Name_of_Drug_or_Biological_or_Device_or_Medical_Supply**."
   ]
  },
  {
   "cell_type": "code",
   "execution_count": 68,
   "metadata": {},
   "outputs": [],
   "source": [
    "drop_col.extend(['Name_of_Drug_or_Biological_or_Device_or_Medical_Supply_1',\n",
    "                 'Name_of_Drug_or_Biological_or_Device_or_Medical_Supply_2',\n",
    "                 'Name_of_Drug_or_Biological_or_Device_or_Medical_Supply_3',\n",
    "                 'Name_of_Drug_or_Biological_or_Device_or_Medical_Supply_4',\n",
    "                 'Name_of_Drug_or_Biological_or_Device_or_Medical_Supply_5'])"
   ]
  },
  {
   "cell_type": "markdown",
   "metadata": {},
   "source": [
    "#### Associated Drug or Biological NDC 1\n",
    "After consulting a medical school student, the NDC code can be replaced by **Name_of_Drug_or_Biological_or_Device_or_Medical_Supply**, a previously analyzed feature. Drugs might also have multiple NDC codes (different size packing...etc), providing another reason that it will be worthwhile to drop this feature."
   ]
  },
  {
   "cell_type": "code",
   "execution_count": 69,
   "metadata": {},
   "outputs": [],
   "source": [
    "drop_col.extend(['Associated_Drug_or_Biological_NDC_1',\n",
    "                 'Associated_Drug_or_Biological_NDC_2',\n",
    "                 'Associated_Drug_or_Biological_NDC_3',\n",
    "                 'Associated_Drug_or_Biological_NDC_4',\n",
    "                 'Associated_Drug_or_Biological_NDC_5'])"
   ]
  },
  {
   "cell_type": "markdown",
   "metadata": {},
   "source": [
    "#### **Related_Product_Indicator** and **Covered_or_Noncovered_Indicator**\n"
   ]
  },
  {
   "cell_type": "code",
   "execution_count": 70,
   "metadata": {},
   "outputs": [
    {
     "name": "stdout",
     "output_type": "stream",
     "text": [
      "Number of missing values in Related_Product_Indicator: 0\n"
     ]
    }
   ],
   "source": [
    "print('Number of missing values in Related_Product_Indicator: {}'.format(sum(df.Related_Product_Indicator.isnull())))"
   ]
  },
  {
   "cell_type": "code",
   "execution_count": 71,
   "metadata": {},
   "outputs": [
    {
     "data": {
      "image/png": "[encoded data removed]",
      "text/plain": [
       "<Figure size 720x432 with 1 Axes>"
      ]
     },
     "metadata": {
      "needs_background": "light"
     },
     "output_type": "display_data"
    }
   ],
   "source": [
    "f19, ax19 = plt.subplots(figsize= (10,6))\n",
    "ax19 = sns.countplot(y='Related_Product_Indicator', hue = 'y', data = df)\n",
    "_ = ax19.set(xlabel = 'Type Counts', ylabel = '')"
   ]
  },
  {
   "cell_type": "markdown",
   "metadata": {},
   "source": [
    "On the surface, **Related_Product_Indicator** doesn't stand out as an exceptional predictor, but there are no reasons for concern, and its binary nature is easy to work with, and hence, we will keep it."
   ]
  },
  {
   "cell_type": "code",
   "execution_count": 72,
   "metadata": {},
   "outputs": [
    {
     "name": "stdout",
     "output_type": "stream",
     "text": [
      "Covered_or_Noncovered_Indicator_1 Missing Proportion: 0.0546234840826627\n",
      "Covered_or_Noncovered_Indicator_2 Missing Proportion: 0.7971937350145739\n",
      "Covered_or_Noncovered_Indicator_3 Missing Proportion: 0.9192382670432331\n",
      "Covered_or_Noncovered_Indicator_4 Missing Proportion: 0.9768675126125441\n",
      "Covered_or_Noncovered_Indicator_5 Missing Proportion: 0.9933031626976692\n"
     ]
    }
   ],
   "source": [
    "cats = [x for x in df.columns if x.startswith('Covered_or_Noncovered_Indicator')]\n",
    "for cat in cats:\n",
    "    na_prop = sum(df[cat].isnull()) / len(df)\n",
    "    print(\"{t} Missing Proportion: {v}\".format(t=cat, v=na_prop))\n"
   ]
  },
  {
   "cell_type": "markdown",
   "metadata": {},
   "source": [
    "Because of the quantity of missing values in indicators 2, 3, 4, and 5, we will drop these four features, and only keep **Covered_or_Noncovered_Indicator_1**."
   ]
  },
  {
   "cell_type": "code",
   "execution_count": 73,
   "metadata": {},
   "outputs": [],
   "source": [
    "drop_col.extend(['Covered_or_Noncovered_Indicator_2',\n",
    "                 'Covered_or_Noncovered_Indicator_3',\n",
    "                 'Covered_or_Noncovered_Indicator_4',\n",
    "                 'Covered_or_Noncovered_Indicator_5'])"
   ]
  },
  {
   "cell_type": "markdown",
   "metadata": {},
   "source": [
    "#### Indicate_Drug_or_Biological_or_Device_or_Medical_Supply"
   ]
  },
  {
   "cell_type": "code",
   "execution_count": 74,
   "metadata": {},
   "outputs": [
    {
     "name": "stdout",
     "output_type": "stream",
     "text": [
      "Indicate_Drug_or_Biological_or_Device_or_Medical_Supply_1 Missing Proportion: 0.08288486710396248\n",
      "Indicate_Drug_or_Biological_or_Device_or_Medical_Supply_2 Missing Proportion: 0.8017288276615976\n",
      "Indicate_Drug_or_Biological_or_Device_or_Medical_Supply_3 Missing Proportion: 0.9211127850221051\n",
      "Indicate_Drug_or_Biological_or_Device_or_Medical_Supply_4 Missing Proportion: 0.9772273447961867\n",
      "Indicate_Drug_or_Biological_or_Device_or_Medical_Supply_5 Missing Proportion: 0.993478019481531\n"
     ]
    }
   ],
   "source": [
    "cats = [x for x in df.columns if x.startswith('Indicate_Drug_or_Biological_or_Device_or_Medical_Supply')]\n",
    "for cat in cats:\n",
    "    na_prop = sum(df[cat].isnull()) / len(df)\n",
    "    print(\"{t} Missing Proportion: {v}\".format(t=cat, v=na_prop))\n"
   ]
  },
  {
   "cell_type": "markdown",
   "metadata": {},
   "source": [
    "Because of the quantity of missing values in indicators 2, 3, 4, and 5, we will also drop these four features, and only keep **Indicate_Drug_or_Biological_or_Device_or_Medical_Supply_1**."
   ]
  },
  {
   "cell_type": "code",
   "execution_count": 75,
   "metadata": {},
   "outputs": [],
   "source": [
    "drop_col.extend(['Indicate_Drug_or_Biological_or_Device_or_Medical_Supply_2',\n",
    "                 'Indicate_Drug_or_Biological_or_Device_or_Medical_Supply_3',\n",
    "                 'Indicate_Drug_or_Biological_or_Device_or_Medical_Supply_4',\n",
    "                 'Indicate_Drug_or_Biological_or_Device_or_Medical_Supply_5'])"
   ]
  },
  {
   "cell_type": "markdown",
   "metadata": {},
   "source": [
    "#### Drop features"
   ]
  },
  {
   "cell_type": "code",
   "execution_count": 76,
   "metadata": {},
   "outputs": [],
   "source": [
    "df.drop(drop_col, axis = 1, inplace = True)"
   ]
  },
  {
   "cell_type": "markdown",
   "metadata": {},
   "source": [
    "#### Remaining Features:"
   ]
  },
  {
   "cell_type": "code",
   "execution_count": 77,
   "metadata": {},
   "outputs": [
    {
     "name": "stdout",
     "output_type": "stream",
     "text": [
      "Recipient_State\n",
      "Recipient_Country\n",
      "Physician_Primary_Type\n",
      "Total_Amount_of_Payment_USDollars\n",
      "Form_of_Payment_or_Transfer_of_Value\n",
      "Dispute_Status_for_Publication\n",
      "Related_Product_Indicator\n",
      "Covered_or_Noncovered_Indicator_1\n",
      "Indicate_Drug_or_Biological_or_Device_or_Medical_Supply_1\n",
      "y\n"
     ]
    }
   ],
   "source": [
    "for el in df.columns: print(el)"
   ]
  },
  {
   "cell_type": "markdown",
   "metadata": {},
   "source": [
    "#### Missing value\n",
    "All plots automatically drop the missing values. Now we check the missing value of each features."
   ]
  },
  {
   "cell_type": "code",
   "execution_count": 78,
   "metadata": {},
   "outputs": [
    {
     "name": "stdout",
     "output_type": "stream",
     "text": [
      "Recipient_State\n",
      "Missing : 1457\t proportion : 0.00012932301222674965\n",
      "\n",
      "Recipient_Country\n",
      "Missing : 643\t proportion : 5.707254417419357e-05\n",
      "\n",
      "Physician_Primary_Type\n",
      "Missing : 619458\t proportion : 0.05498296122715023\n",
      "\n",
      "Covered_or_Noncovered_Indicator_1\n",
      "Missing : 615408\t proportion : 0.0546234840826627\n",
      "\n",
      "Indicate_Drug_or_Biological_or_Device_or_Medical_Supply_1\n",
      "Missing : 933811\t proportion : 0.08288486710396248\n",
      "\n"
     ]
    }
   ],
   "source": [
    "# check missing\n",
    "for el in df.columns:\n",
    "    tmp = df[el].isna().sum()\n",
    "    if tmp == 0:\n",
    "        continue\n",
    "    else:\n",
    "        print(el)\n",
    "        print('Missing : ' + str(tmp) + '\\t proportion : ' + str(tmp/df.shape[0]) + '\\n')"
   ]
  },
  {
   "cell_type": "markdown",
   "metadata": {},
   "source": [
    "## Conclusion for task 1\n",
    "\n",
    "Based on the README information, all rows in file 1 and 2 are labeled 0 and 1, respectively. The rules outlined at the top of this notebook explain the criteria that was used for feature reduction, and as a result, the remaining features that we will use are:\n",
    "1. Recipient_State\n",
    "2. Recipient_Country\n",
    "3. Physician_Primary_Type\n",
    "4. Total_Amount_of_Payment_USDollars\n",
    "5. Form_of_Payment_or_Transfer_of_Value\n",
    "6. Dispute_Status_for_Publication\n",
    "7. Related_Product_Indicator\n",
    "8. Covered_or_Noncovered_Indicator_1\n",
    "9. Indicate_Drug_or_Biological_or_Device_or_Medical_Supply_1\n"
   ]
  }
 ],
 "metadata": {
  "kernelspec": {
   "display_name": "progs",
   "language": "python",
   "name": "progs"
  },
  "language_info": {
   "codemirror_mode": {
    "name": "ipython",
    "version": 3
   },
   "file_extension": ".py",
   "mimetype": "text/x-python",
   "name": "python",
   "nbconvert_exporter": "python",
   "pygments_lexer": "ipython3",
   "version": "3.7.2"
  }
 },
 "nbformat": 4,
 "nbformat_minor": 2
}
