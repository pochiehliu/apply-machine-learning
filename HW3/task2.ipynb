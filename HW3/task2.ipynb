{
 "cells": [
  {
   "cell_type": "markdown",
   "metadata": {},
   "source": [
    "## Applied Machine Learning Homework 3 Task 2\n",
    "\n",
    "Peter Grantcharov (pdg2116), Po-Chieh Liu (pl2441)\n",
    "\n",
    "**The overall goal is to predict whether a payment by a company to a medical doctor or facility was made as part of a research project or not.**"
   ]
  },
  {
   "cell_type": "code",
   "execution_count": 2,
   "metadata": {},
   "outputs": [],
   "source": [
    "# import base packages\n",
    "import numpy as np\n",
    "import pandas as pd\n",
    "import matplotlib.pyplot as plt\n",
    "import seaborn as sns\n",
    "import warnings\n",
    "warnings.filterwarnings('ignore')"
   ]
  },
  {
   "cell_type": "markdown",
   "metadata": {},
   "source": [
    "# Task 2 Preprocessing and Baseline Model\n",
    "1. Create a simple minimum viable model by doing an initial selection of features \n",
    "2. Doing appropriate preprocessing and cross-validating a linear model. \n",
    "3. Feel free to generously exclude features or do simplified preprocessing for this task. As mentioned before, you don’t need to validate the model on the whole dataset"
   ]
  },
  {
   "cell_type": "markdown",
   "metadata": {},
   "source": [
    "## Before Commencing\n",
    "From task 1, we selected following features for building model predict the payment type:\n",
    "1. Recipient_State\n",
    "2. Recipient_Country\n",
    "3. Physician_Primary_Type\n",
    "4. Total_Amount_of_Payment_USDollars\n",
    "5. Form_of_Payment_or_Transfer_of_Value\n",
    "6. Dispute_Status_for_Publication\n",
    "7. Related_Product_Indicator\n",
    "8. Covered_or_Noncovered_Indicator_1\n",
    "9. Indicate_Drug_or_Biological_or_Device_or_Medical_Supply_1"
   ]
  },
  {
   "cell_type": "markdown",
   "metadata": {},
   "source": [
    "#### Import data\n",
    "\n",
    "Based on task 1 results."
   ]
  },
  {
   "cell_type": "code",
   "execution_count": 3,
   "metadata": {},
   "outputs": [],
   "source": [
    "# Selected features\n",
    "col = [\"Recipient_State\", \n",
    "       \"Recipient_Country\",\n",
    "       \"Physician_Primary_Type\",\n",
    "       \"Applicable_Manufacturer_or_Applicable_GPO_Making_Payment_ID\",\n",
    "       \"Total_Amount_of_Payment_USDollars\",\n",
    "       \"Form_of_Payment_or_Transfer_of_Value\",\n",
    "       \"Dispute_Status_for_Publication\",\n",
    "       \"Related_Product_Indicator\",\n",
    "       \"Covered_or_Noncovered_Indicator_1\",\n",
    "       \"Indicate_Drug_or_Biological_or_Device_or_Medical_Supply_1\",\n",
    "      ]\n",
    "\n",
    "# import file 1 and 2\n",
    "file1 = pd.read_csv('OP_DTL_GNRL_PGYR2017_P01182019.csv', usecols = col)\n",
    "file2 = pd.read_csv('OP_DTL_RSRCH_PGYR2017_P01182019.csv', usecols = col)\n",
    "\n",
    "# Labeling\n",
    "file1['y'] = int(0)\n",
    "file2['y'] = int(1)\n",
    "\n",
    "# combine (vertical stack)\n",
    "df = pd.concat([file1, file2], sort = False)\n",
    "\n",
    "# free memory\n",
    "del file1, file2, col"
   ]
  },
  {
   "cell_type": "markdown",
   "metadata": {},
   "source": [
    "#### Missing data"
   ]
  },
  {
   "cell_type": "code",
   "execution_count": 4,
   "metadata": {},
   "outputs": [
    {
     "name": "stdout",
     "output_type": "stream",
     "text": [
      "Recipient_State\n",
      "Missing : 1457\t proportion : 0.00012932301222674965\n",
      "\n",
      "Recipient_Country\n",
      "Missing : 643\t proportion : 5.707254417419357e-05\n",
      "\n",
      "Physician_Primary_Type\n",
      "Missing : 619458\t proportion : 0.05498296122715023\n",
      "\n",
      "Covered_or_Noncovered_Indicator_1\n",
      "Missing : 615408\t proportion : 0.0546234840826627\n",
      "\n",
      "Indicate_Drug_or_Biological_or_Device_or_Medical_Supply_1\n",
      "Missing : 933811\t proportion : 0.08288486710396248\n",
      "\n"
     ]
    }
   ],
   "source": [
    "# check missing\n",
    "for el in df.columns:\n",
    "    tmp = df[el].isna().sum()\n",
    "    if tmp == 0:\n",
    "        continue\n",
    "    else:\n",
    "        print(el)\n",
    "        print('Missing : ' + str(tmp) + '\\t proportion : ' + str(tmp/df.shape[0]) + '\\n')"
   ]
  },
  {
   "cell_type": "markdown",
   "metadata": {},
   "source": [
    "#### Recipient_State and Recipient_Country"
   ]
  },
  {
   "cell_type": "code",
   "execution_count": 5,
   "metadata": {},
   "outputs": [],
   "source": [
    "# Labelling all missing states as \"Unknown\"\n",
    "df.Recipient_State[df.Recipient_State.isnull()] = 'Unknown'"
   ]
  },
  {
   "cell_type": "code",
   "execution_count": 6,
   "metadata": {},
   "outputs": [],
   "source": [
    "# Grouping all non-us countries and United States Minor Outlying Islands together\n",
    "df.Recipient_Country[~(\n",
    "    (df.Recipient_Country == 'United States') |  (df.Recipient_Country.isnull()))] = 'Other'\n",
    "\n",
    "# assign missing country as unknown country\n",
    "df.Recipient_Country[df.Recipient_Country.isnull()] = 'Unknown'"
   ]
  },
  {
   "cell_type": "markdown",
   "metadata": {},
   "source": [
    "#### Covered_or_Noncovered_Indicator_1"
   ]
  },
  {
   "cell_type": "markdown",
   "metadata": {},
   "source": [
    "Modify missing values as **Missing**"
   ]
  },
  {
   "cell_type": "code",
   "execution_count": 7,
   "metadata": {},
   "outputs": [],
   "source": [
    "# Assign not applicable for missing value\n",
    "df.Covered_or_Noncovered_Indicator_1[\n",
    "    df.Covered_or_Noncovered_Indicator_1.isnull()] = 'Missing'"
   ]
  },
  {
   "cell_type": "markdown",
   "metadata": {},
   "source": [
    "#### Indicate_Drug_or_Biological_or_Device_or_Medical_Supply_1"
   ]
  },
  {
   "cell_type": "markdown",
   "metadata": {},
   "source": [
    "Using the feature descriptions and common sense, we believe that missing values in **Indicate_Drug_or_Biological_or_Device_or_Medical_Supply** should be treated differently based on whether the **Related_Product_Indicator** was *Yes* or *No*. If the former, then we would expect there to be at least one product listed in the **Indicate_Drug_or_Biological_or_Device_or_Medical_Supply**, so if it is blank, we will treat this as an *Unknown* category. If **Related_Product_Indicator** was *No*, then this category should be *NA* for \"not applicable\"."
   ]
  },
  {
   "cell_type": "code",
   "execution_count": 8,
   "metadata": {},
   "outputs": [
    {
     "data": {
      "text/plain": [
       "318404"
      ]
     },
     "execution_count": 8,
     "metadata": {},
     "output_type": "execute_result"
    }
   ],
   "source": [
    "# check all rows with 'Yes' of related product have Indicator or not\n",
    "df.Indicate_Drug_or_Biological_or_Device_or_Medical_Supply_1[(\n",
    "    (df.Related_Product_Indicator == 'Yes') & \n",
    "    (df.Indicate_Drug_or_Biological_or_Device_or_Medical_Supply_1.isnull()))].isnull().sum()"
   ]
  },
  {
   "cell_type": "code",
   "execution_count": 9,
   "metadata": {},
   "outputs": [],
   "source": [
    "# if the Related_Product_Indicator indicator is Yes, then at least 1 item should be related\n",
    "# so assume the missing of 1st indicator is missing\n",
    "df.Indicate_Drug_or_Biological_or_Device_or_Medical_Supply_1[(\n",
    "    (df.Related_Product_Indicator == 'Yes') &\n",
    "    (df.Indicate_Drug_or_Biological_or_Device_or_Medical_Supply_1.isnull())\n",
    ")] = 'Unknown'\n",
    "\n",
    "# The missing indicator 1 with No of related indicator should be NA\n",
    "df.Indicate_Drug_or_Biological_or_Device_or_Medical_Supply_1[(\n",
    "        (df.Related_Product_Indicator == 'No')\n",
    ")] = 'NA'"
   ]
  },
  {
   "cell_type": "code",
   "execution_count": 10,
   "metadata": {},
   "outputs": [
    {
     "name": "stdout",
     "output_type": "stream",
     "text": [
      "['Covered' 'Missing' 'Non-Covered']\n"
     ]
    }
   ],
   "source": [
    "print(df.Covered_or_Noncovered_Indicator_1.unique())\n"
   ]
  },
  {
   "cell_type": "code",
   "execution_count": 11,
   "metadata": {},
   "outputs": [
    {
     "name": "stdout",
     "output_type": "stream",
     "text": [
      "['Drug' 'NA' 'Device' 'Medical Supply' 'Biological' 'Unknown']\n"
     ]
    }
   ],
   "source": [
    "print(df.Indicate_Drug_or_Biological_or_Device_or_Medical_Supply_1.unique())\n"
   ]
  },
  {
   "cell_type": "code",
   "execution_count": 12,
   "metadata": {},
   "outputs": [
    {
     "data": {
      "text/plain": [
       "619458"
      ]
     },
     "execution_count": 12,
     "metadata": {},
     "output_type": "execute_result"
    }
   ],
   "source": [
    "sum(df.Physician_Primary_Type.isnull())\n"
   ]
  },
  {
   "cell_type": "markdown",
   "metadata": {},
   "source": [
    "#### Physician_Primary_Type"
   ]
  },
  {
   "cell_type": "code",
   "execution_count": 13,
   "metadata": {},
   "outputs": [],
   "source": [
    "df.Physician_Primary_Type[df.Physician_Primary_Type.isnull()] = 'Unknown'"
   ]
  },
  {
   "cell_type": "code",
   "execution_count": 14,
   "metadata": {},
   "outputs": [
    {
     "data": {
      "text/plain": [
       "Physician_Primary_Type\n",
       "Chiropractor                    0.000316\n",
       "Doctor of Dentistry             0.028879\n",
       "Doctor of Optometry             0.020187\n",
       "Doctor of Osteopathy            0.081517\n",
       "Doctor of Podiatric Medicine    0.008848\n",
       "Medical Doctor                  0.805270\n",
       "Unknown                         0.054983\n",
       "dtype: float64"
      ]
     },
     "execution_count": 14,
     "metadata": {},
     "output_type": "execute_result"
    }
   ],
   "source": [
    "df.groupby('Physician_Primary_Type').size() / len(df)"
   ]
  },
  {
   "cell_type": "code",
   "execution_count": 15,
   "metadata": {},
   "outputs": [
    {
     "data": {
      "image/png": "[encoded data removed]",
      "text/plain": [
       "<Figure size 432x288 with 1 Axes>"
      ]
     },
     "metadata": {
      "needs_background": "light"
     },
     "output_type": "display_data"
    }
   ],
   "source": [
    "f, ax = plt.subplots()\n",
    "ax = sns.countplot(y = 'Physician_Primary_Type', hue = 'y', data = df)"
   ]
  },
  {
   "cell_type": "code",
   "execution_count": 16,
   "metadata": {},
   "outputs": [
    {
     "data": {
      "text/plain": [
       "Physician_Primary_Type        y\n",
       "Chiropractor                  0       3556\n",
       "                              1          1\n",
       "Doctor of Dentistry           0     324981\n",
       "                              1        382\n",
       "Doctor of Optometry           0     227078\n",
       "                              1        356\n",
       "Doctor of Osteopathy          0     917543\n",
       "                              1        857\n",
       "Doctor of Podiatric Medicine  0      99635\n",
       "                              1         49\n",
       "Medical Doctor                0    9049297\n",
       "                              1      23170\n",
       "Unknown                       0      41743\n",
       "                              1     577715\n",
       "dtype: int64"
      ]
     },
     "execution_count": 16,
     "metadata": {},
     "output_type": "execute_result"
    }
   ],
   "source": [
    "df.groupby(['Physician_Primary_Type', 'y']).size()"
   ]
  },
  {
   "cell_type": "markdown",
   "metadata": {},
   "source": [
    "From the tables and figure, we can find that there is a surprising result with the missing values in **Physician_Primary_Type**. Specifically, we see that over 93% of those entries (accounting for ~5% of all data) belong to research transactions (y = 1). Whether this constitutes information leakage, or is indicative of a great feature, is difficult to judge, so in the spirit of avoiding shortcuts, we will remove this feature."
   ]
  },
  {
   "cell_type": "code",
   "execution_count": 25,
   "metadata": {},
   "outputs": [],
   "source": [
    "df.drop(['Physician_Primary_Type'], axis = 1, inplace = True)"
   ]
  },
  {
   "cell_type": "markdown",
   "metadata": {},
   "source": [
    "#### Check missing rate"
   ]
  },
  {
   "cell_type": "code",
   "execution_count": 26,
   "metadata": {},
   "outputs": [
    {
     "name": "stdout",
     "output_type": "stream",
     "text": [
      "0 missing data of feature Recipient_State\n",
      "0 missing data of feature Recipient_Country\n",
      "0 missing data of feature Applicable_Manufacturer_or_Applicable_GPO_Making_Payment_ID\n",
      "0 missing data of feature Total_Amount_of_Payment_USDollars\n",
      "0 missing data of feature Form_of_Payment_or_Transfer_of_Value\n",
      "0 missing data of feature Dispute_Status_for_Publication\n",
      "0 missing data of feature Related_Product_Indicator\n",
      "0 missing data of feature Covered_or_Noncovered_Indicator_1\n",
      "0 missing data of feature Indicate_Drug_or_Biological_or_Device_or_Medical_Supply_1\n",
      "0 missing data of feature y\n"
     ]
    }
   ],
   "source": [
    "# check missing\n",
    "for el in df.columns:\n",
    "    tmp = df[el].isna().sum()\n",
    "    if tmp == 0:\n",
    "        print('0 missing data of feature ' + str(el))\n",
    "    else:\n",
    "        print(str(el) + ' has\\n number of missing rows : ' + str(tmp) + '\\n ratio : ' + str(tmp/df.shape[0]) + '\\n')"
   ]
  },
  {
   "cell_type": "markdown",
   "metadata": {},
   "source": [
    "## Baseline model\n",
    "\n",
    "For building our baseline model, we selected 9 features based on our research and applyied a logistic regression to predict the label. The following features were selected.\n",
    "\n",
    "1. **Recipient_State** 62 unique values\n",
    "2. **Recipient_Country** : 3 unique values\n",
    "3. **Total_Amount_of_Payment_USDollars** real valued\n",
    "4. **Form_of_Payment_or_Transfer_of_Value** 6 unique values\n",
    "5. **Dispute_Status_for_Publication** 2 unique values\n",
    "6. **Related_Product_Indicator** 2 unique values\n",
    "7. **Covered_or_Noncovered_Indicator_1** 3 unique values\n",
    "8. **Indicate_Drug_or_Biological_or_Device_or_Medical_Supply_1** 6 unique values\n",
    "\n"
   ]
  },
  {
   "cell_type": "code",
   "execution_count": 27,
   "metadata": {},
   "outputs": [],
   "source": [
    "# import sklearn\n",
    "from sklearn.model_selection import train_test_split\n",
    "from sklearn.pipeline import make_pipeline\n",
    "from sklearn.compose import make_column_transformer\n",
    "from sklearn.preprocessing import OneHotEncoder\n",
    "from sklearn.preprocessing import PowerTransformer\n",
    "from sklearn.model_selection import cross_validate\n",
    "from sklearn import metrics\n",
    "from sklearn.linear_model import LogisticRegression"
   ]
  },
  {
   "cell_type": "code",
   "execution_count": 28,
   "metadata": {},
   "outputs": [],
   "source": [
    "col = [el for el in df.columns if el != 'y']"
   ]
  },
  {
   "cell_type": "code",
   "execution_count": 29,
   "metadata": {
    "scrolled": false
   },
   "outputs": [],
   "source": [
    "# sample data\n",
    "rand = np.random.choice(df.index.values, int(len(df) * 0.001))\n",
    "s_df = df.ix[rand]\n",
    "\n",
    "# subset features\n",
    "X = s_df.loc[:, col]\n",
    "y = s_df.loc[:,'y']\n",
    "\n",
    "# train and test split\n",
    "X_train, X_test, y_train, y_test = train_test_split(X, y, \n",
    "                                                    random_state = 1, \n",
    "                                                    stratify = y, \n",
    "                                                    train_size = 0.75)\n"
   ]
  },
  {
   "cell_type": "markdown",
   "metadata": {},
   "source": [
    "#### Build pipeline using small dataset"
   ]
  },
  {
   "cell_type": "code",
   "execution_count": 30,
   "metadata": {},
   "outputs": [],
   "source": [
    "# categorical list \n",
    "ct_ls = [x for x in col if x != 'Total_Amount_of_Payment_USDollars']\n",
    "\n",
    "# preprocess pipe\n",
    "# PowerTransformer() also standardize the data \n",
    "preprocess = make_column_transformer(\n",
    "    (PowerTransformer(),['Total_Amount_of_Payment_USDollars']),\n",
    "    (OneHotEncoder(sparse = False, handle_unknown='ignore'), ct_ls),\n",
    "    remainder='passthrough')\n",
    "\n",
    "# logistic pipe\n",
    "lr = LogisticRegression(dual = False, solver = \"sag\", penalty = 'l2')\n",
    "logistic_pipe = make_pipeline(preprocess, lr) "
   ]
  },
  {
   "cell_type": "code",
   "execution_count": 31,
   "metadata": {},
   "outputs": [],
   "source": [
    "# metric we want to use\n",
    "scoring = {'balanced_accuracy' : 'balanced_accuracy',\n",
    "           'precision' : 'precision',\n",
    "           'average_precision' : 'average_precision', \n",
    "           'recall' : 'recall',\n",
    "           'f1' : 'f1'}"
   ]
  },
  {
   "cell_type": "code",
   "execution_count": 32,
   "metadata": {},
   "outputs": [],
   "source": [
    "# build using small subset\n",
    "scores = cross_validate(logistic_pipe, X_train, y_train, scoring = scoring)"
   ]
  },
  {
   "cell_type": "code",
   "execution_count": 33,
   "metadata": {},
   "outputs": [
    {
     "name": "stdout",
     "output_type": "stream",
     "text": [
      "test_balanced_accuracy : 0.8397420218125639\n",
      "train_balanced_accuracy : 0.8726630056588682\n",
      "test_precision : 0.8260501590866554\n",
      "train_precision : 0.8822340578231017\n",
      "test_average_precision : 0.8482536286557143\n",
      "train_average_precision : 0.8904383342356708\n",
      "test_recall : 0.6956989247311829\n",
      "train_recall : 0.7564516129032258\n",
      "test_f1 : 0.7550262642908642\n",
      "train_f1 : 0.814425892115101\n"
     ]
    }
   ],
   "source": [
    "for el in scores.keys():\n",
    "    if el == 'fit_time' or el == 'score_time':\n",
    "        continue\n",
    "    else:\n",
    "        print(el + ' : ' + str(np.mean(scores[el])))"
   ]
  },
  {
   "cell_type": "markdown",
   "metadata": {},
   "source": [
    "## Conclusion for task 2\n",
    "\n",
    "In task 2, we used logistic regression as baseline model algorithm. We used following features to predict the payment label:\n",
    "1. Recipient_State\n",
    "2. Recipient_Country\n",
    "3. Total_Amount_of_Payment_USDollars\n",
    "4. Form_of_Payment_or_Transfer_of_Value\n",
    "5. Dispute_Status_for_Publication\n",
    "6. Related_Product_Indicator\n",
    "7. Covered_or_Noncovered_Indicator_1\n",
    "8. Indicate_Drug_or_Biological_or_Device_or_Medical_Supply_1\n",
    "\n",
    "The sample model was built with 10% subset data. The model performance were evaluated using several metrics, given that the dataset is highly imbalanced. We consider the following baseline results relevant for assessing our baseline model:\n",
    "\n",
    "1. test_balanced_accuracy : 0.8397420218125639\n",
    "2. test_precision : 0.8260501590866554\n",
    "3. test_average_precision : 0.8482536286557143\n",
    "4. test_recall : 0.6956989247311829\n",
    "5. test_f1 : 0.7550262642908642\n"
   ]
  }
 ],
 "metadata": {
  "kernelspec": {
   "display_name": "progs",
   "language": "python",
   "name": "progs"
  },
  "language_info": {
   "codemirror_mode": {
    "name": "ipython",
    "version": 3
   },
   "file_extension": ".py",
   "mimetype": "text/x-python",
   "name": "python",
   "nbconvert_exporter": "python",
   "pygments_lexer": "ipython3",
   "version": "3.7.2"
  }
 },
 "nbformat": 4,
 "nbformat_minor": 2
}
