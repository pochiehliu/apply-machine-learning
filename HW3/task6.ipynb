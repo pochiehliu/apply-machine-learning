{
 "cells": [
  {
   "cell_type": "markdown",
   "metadata": {},
   "source": [
    "## Applied Machine Learning Homework 3 Task 6\n",
    "\n",
    "Peter Grantcharov (pdg2116), Po-Chieh Liu (pl2441)\n",
    "\n",
    "**The overall goal is to predict whether a payment by a company to a medical doctor or facility was made as part of a research project or not.**"
   ]
  },
  {
   "cell_type": "code",
   "execution_count": 1,
   "metadata": {},
   "outputs": [],
   "source": [
    "# import base packages\n",
    "import numpy as np\n",
    "import pandas as pd\n",
    "import matplotlib.pyplot as plt\n",
    "import seaborn as sns\n",
    "import warnings\n",
    "warnings.filterwarnings('ignore')"
   ]
  },
  {
   "cell_type": "markdown",
   "metadata": {},
   "source": [
    "# Task 6 An explainable model\n",
    "Can you create an “explainable” model that is nearly as good as your best model? An explainable model should be small enough to be easily inspected - say a linear model with few enough coefficients that you can reasonable look at all of them, or a tree with a small number of leafs etc"
   ]
  },
  {
   "cell_type": "markdown",
   "metadata": {},
   "source": [
    "### Import data"
   ]
  },
  {
   "cell_type": "code",
   "execution_count": 2,
   "metadata": {},
   "outputs": [],
   "source": [
    "# Selected features\n",
    "col  = ['Recipient_State',\n",
    "        'Recipient_Country',\n",
    "        'Applicable_Manufacturer_or_Applicable_GPO_Making_Payment_ID',\n",
    "        'Total_Amount_of_Payment_USDollars', \n",
    "        'Date_of_Payment', \n",
    "        'Form_of_Payment_or_Transfer_of_Value',\n",
    "        'Dispute_Status_for_Publication', \n",
    "        'Related_Product_Indicator',\n",
    "        'Covered_or_Noncovered_Indicator_1',\n",
    "        'Indicate_Drug_or_Biological_or_Device_or_Medical_Supply_1',\n",
    "        'Covered_or_Noncovered_Indicator_2',\n",
    "        'Indicate_Drug_or_Biological_or_Device_or_Medical_Supply_2',\n",
    "        'Covered_or_Noncovered_Indicator_3',\n",
    "        'Indicate_Drug_or_Biological_or_Device_or_Medical_Supply_3',\n",
    "       ]\n",
    "\n",
    "# import file 1 and 2\n",
    "file1 = pd.read_csv('OP_DTL_GNRL_PGYR2017_P01182019.csv', usecols = col)\n",
    "file2 = pd.read_csv('OP_DTL_RSRCH_PGYR2017_P01182019.csv', usecols = col)\n",
    "\n",
    "# Labeling\n",
    "file1['y'] = int(0)\n",
    "file2['y'] = int(1)\n",
    "\n",
    "# combine (vertical stack)\n",
    "df = pd.concat([file1, file2], sort = False)\n",
    "\n",
    "# free memory\n",
    "del file1, file2, col\n",
    "\n",
    "# convert to datatime type and reduce to month only\n",
    "df['Date_of_Payment'] = pd.to_datetime(df.Date_of_Payment, format = \"%m/%d/%Y\")\n",
    "df['Date_of_Payment'] = pd.DatetimeIndex(df['Date_of_Payment']).month\n"
   ]
  },
  {
   "cell_type": "markdown",
   "metadata": {},
   "source": [
    "### Deal with missing data"
   ]
  },
  {
   "cell_type": "code",
   "execution_count": 42,
   "metadata": {},
   "outputs": [],
   "source": [
    "# Labelling all missing states as \"Unknown\"\n",
    "df.Recipient_State[df.Recipient_State.isnull()] = 'Unknown'\n",
    "\n",
    "# Grouping all non-us countries and United States Minor Outlying Islands together\n",
    "df.Recipient_Country[~(\n",
    "    (df.Recipient_Country == 'United States') |  (df.Recipient_Country.isnull()))] = 'Other'\n",
    "\n",
    "# assign missing country as unknown country\n",
    "df.Recipient_Country[df.Recipient_Country.isnull()] = 'Unknown'\n",
    "\n",
    "# Assign not applicable for missing value\n",
    "df.Covered_or_Noncovered_Indicator_1[df.Covered_or_Noncovered_Indicator_1.isnull()] = 'M1'\n",
    "df.Covered_or_Noncovered_Indicator_2[df.Covered_or_Noncovered_Indicator_2.isnull()] = 'M2'\n",
    "df.Covered_or_Noncovered_Indicator_3[df.Covered_or_Noncovered_Indicator_3.isnull()] = 'M3'\n",
    "\n",
    "# if the Related_Product_Indicator indicator is Yes, then at least 1 item should be related\n",
    "# so assume the missing of 1st indicator is missing\n",
    "for i in range(1, 4):\n",
    "    name = 'Indicate_Drug_or_Biological_or_Device_or_Medical_Supply_' + str(i)\n",
    "    df[name][( (df.Related_Product_Indicator == 'Yes') & (df[name].isnull()))] = 'Unknown' + str(i)\n",
    "\n",
    "    # The missing indicator 1 with No of related indicator should be NA\n",
    "    df[name][((df.Related_Product_Indicator == 'No'))] = 'NA' + str(i)\n"
   ]
  },
  {
   "cell_type": "markdown",
   "metadata": {},
   "source": [
    "## Build model"
   ]
  },
  {
   "cell_type": "code",
   "execution_count": 43,
   "metadata": {},
   "outputs": [],
   "source": [
    "# import sklearn\n",
    "from sklearn.model_selection import train_test_split\n",
    "from sklearn.preprocessing import LabelEncoder\n",
    "from sklearn.preprocessing import OneHotEncoder\n",
    "from sklearn.preprocessing import PowerTransformer\n",
    "from sklearn.compose import make_column_transformer\n",
    "from sklearn.pipeline import make_pipeline\n",
    "from sklearn.model_selection import GridSearchCV\n",
    "from sklearn.model_selection import cross_validate\n",
    "from sklearn.linear_model import LogisticRegression\n",
    "from sklearn import metrics"
   ]
  },
  {
   "cell_type": "code",
   "execution_count": 44,
   "metadata": {},
   "outputs": [],
   "source": [
    "# metric we want to use\n",
    "scoring = {'balanced_accuracy' : 'balanced_accuracy',\n",
    "           'precision' : 'precision',\n",
    "           'average_precision' : 'average_precision', \n",
    "           'recall' : 'recall',\n",
    "           'f1' : 'f1'}"
   ]
  },
  {
   "cell_type": "code",
   "execution_count": 63,
   "metadata": {},
   "outputs": [],
   "source": [
    "# subset features\n",
    "selected_feature = ['Applicable_Manufacturer_or_Applicable_GPO_Making_Payment_ID',\n",
    "                    'Total_Amount_of_Payment_USDollars',\n",
    "                    'Form_of_Payment_or_Transfer_of_Value',\n",
    "                    'Covered_or_Noncovered_Indicator_1']"
   ]
  },
  {
   "cell_type": "markdown",
   "metadata": {},
   "source": [
    "## Smooth Target-based Encoding"
   ]
  },
  {
   "cell_type": "code",
   "execution_count": 66,
   "metadata": {},
   "outputs": [],
   "source": [
    "# Source: https://maxhalford.github.io/blog/target-encoding-done-the-right-way/\n",
    "\n",
    "def calc_smooth_mean(df, by, on, m):\n",
    "    # Compute the global mean\n",
    "    mean = df[on].mean()\n",
    "\n",
    "    # Compute the number of values and the mean of each group\n",
    "    agg = df.groupby(by)[on].agg(['count', 'mean'])\n",
    "    counts = agg['count']\n",
    "    means = agg['mean']\n",
    "\n",
    "    # Compute the \"smoothed\" means\n",
    "    smooth = (counts * means + m * mean) / (counts + m)\n",
    "\n",
    "    # Replace each value by the according smoothed mean\n",
    "    return df[by].map(smooth)"
   ]
  },
  {
   "cell_type": "code",
   "execution_count": 67,
   "metadata": {},
   "outputs": [],
   "source": [
    "df_t_s = df.copy()"
   ]
  },
  {
   "cell_type": "code",
   "execution_count": 68,
   "metadata": {},
   "outputs": [],
   "source": [
    "el = 'Applicable_Manufacturer_or_Applicable_GPO_Making_Payment_ID'\n",
    "df_t_s[el] = calc_smooth_mean(df_t_s, by = el, on = 'y', m = 300)"
   ]
  },
  {
   "cell_type": "markdown",
   "metadata": {},
   "source": [
    "#### Logistic regression"
   ]
  },
  {
   "cell_type": "code",
   "execution_count": 69,
   "metadata": {},
   "outputs": [],
   "source": [
    "# sample data\n",
    "rand = np.random.choice(df.index.values, int(len(df) * 0.005))\n",
    "s_df = df_t_s.ix[rand]\n",
    "\n",
    "# subset features\n",
    "X = s_df.loc[:, selected_feature].copy()\n",
    "y = s_df.loc[:,'y']\n",
    "\n",
    "# train and test split\n",
    "X_train, X_test, y_train, y_test = train_test_split(X, y, \n",
    "                                                    random_state = 1, \n",
    "                                                    stratify = y, \n",
    "                                                    train_size = 0.75)"
   ]
  },
  {
   "cell_type": "code",
   "execution_count": 71,
   "metadata": {},
   "outputs": [],
   "source": [
    "# categorical list \n",
    "ct_ls = [x for x in selected_feature if (\n",
    "    (x != 'Total_Amount_of_Payment_USDollars') &\n",
    "    (x != 'Applicable_Manufacturer_or_Applicable_GPO_Making_Payment_ID'))]\n",
    "\n",
    "# continuous list\n",
    "cts_ls = [x for x in selected_feature if x not in ct_ls]"
   ]
  },
  {
   "cell_type": "code",
   "execution_count": 72,
   "metadata": {},
   "outputs": [],
   "source": [
    "# preprocess pipe\n",
    "# PowerTransformer() also standardize the data \n",
    "preprocess = make_column_transformer(\n",
    "    (PowerTransformer(), cts_ls),\n",
    "    (OneHotEncoder(sparse = False, handle_unknown='ignore'), ct_ls),\n",
    "    remainder='passthrough')\n",
    "\n",
    "# logistic pipe\n",
    "lr = LogisticRegression(dual = False, solver = \"sag\", penalty = 'l2')\n",
    "logistic_pipe = make_pipeline(preprocess, lr) "
   ]
  },
  {
   "cell_type": "code",
   "execution_count": 73,
   "metadata": {},
   "outputs": [
    {
     "name": "stdout",
     "output_type": "stream",
     "text": [
      "test_balanced_accuracy: 0.8563010077047158\n",
      "test_precision: 0.8091878316393469\n",
      "test_average_precision: 0.8608855917466164\n",
      "test_recall: 0.7311827956989249\n",
      "test_f1: 0.7681741198720281\n"
     ]
    }
   ],
   "source": [
    "# build using small subset\n",
    "scores = cross_validate(logistic_pipe, X_train, y_train, scoring = scoring)\n",
    "score_list = ['test_balanced_accuracy', 'test_precision', 'test_average_precision', 'test_recall', 'test_f1']\n",
    "for score in score_list:\n",
    "    print(\"{s}: {v}\".format(s=score, v=scores[score].mean()))\n",
    "    "
   ]
  },
  {
   "cell_type": "code",
   "execution_count": 74,
   "metadata": {},
   "outputs": [
    {
     "data": {
      "image/png": "[encoded data removed]",
      "text/plain": [
       "<Figure size 432x288 with 1 Axes>"
      ]
     },
     "metadata": {
      "needs_background": "light"
     },
     "output_type": "display_data"
    }
   ],
   "source": [
    "# visulize the parameters\n",
    "logistic_pipe.fit(X_train, y_train)\n",
    "\n",
    "logistic_coef = logistic_pipe.steps[1][1].coef_\n",
    "_ = sns.scatterplot(x = range(1,logistic_coef.shape[1]+1), y = logistic_coef[0,:])"
   ]
  },
  {
   "cell_type": "markdown",
   "metadata": {},
   "source": [
    "# Conclusion\n"
   ]
  },
  {
   "cell_type": "markdown",
   "metadata": {},
   "source": [
    "From this simplified model, we can see that there are only 9 features included in the logistic regression. We have selected the best four features from our Task 5 analysis, and from this, we can attain the corresponding 9 coefficients. \n",
    "\n",
    "The linear nature of the logistic regression classifier makes it very interpretable, as it just requires plugging in the coefficients and test set vectors into a logistic regression sigmoid function in order to get the prediction. \n",
    "\n",
    "The accuracy is a few notches below our more Random Forest and Decision Trees, but its simplicity and interpretability is a valuable trade-off."
   ]
  }
 ],
 "metadata": {
  "kernelspec": {
   "display_name": "progs",
   "language": "python",
   "name": "progs"
  },
  "language_info": {
   "codemirror_mode": {
    "name": "ipython",
    "version": 3
   },
   "file_extension": ".py",
   "mimetype": "text/x-python",
   "name": "python",
   "nbconvert_exporter": "python",
   "pygments_lexer": "ipython3",
   "version": "3.7.2"
  }
 },
 "nbformat": 4,
 "nbformat_minor": 2
}
